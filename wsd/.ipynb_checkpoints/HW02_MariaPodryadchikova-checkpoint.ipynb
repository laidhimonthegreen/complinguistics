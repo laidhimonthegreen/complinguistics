{
 "cells": [
  {
   "cell_type": "code",
   "execution_count": 50,
   "metadata": {},
   "outputs": [
    {
     "name": "stderr",
     "output_type": "stream",
     "text": [
      "[nltk_data] Downloading package stopwords to\n",
      "[nltk_data]     /home/laidhimonthegreen/nltk_data...\n",
      "[nltk_data]   Package stopwords is already up-to-date!\n",
      "[nltk_data] Downloading package averaged_perceptron_tagger to\n",
      "[nltk_data]     /home/laidhimonthegreen/nltk_data...\n",
      "[nltk_data]   Package averaged_perceptron_tagger is already up-to-\n",
      "[nltk_data]       date!\n"
     ]
    }
   ],
   "source": [
    "import nltk\n",
    "import re\n",
    "import random \n",
    "from nltk.tokenize import word_tokenize\n",
    "nltk.download(\"stopwords\")\n",
    "nltk.download('averaged_perceptron_tagger')\n",
    "from nltk.corpus import stopwords\n",
    "from nltk.corpus import wordnet as wn\n",
    "from nltk.wsd import lesk\n",
    "from pymorphy2 import MorphAnalyzer\n",
    "from string import punctuation\n",
    "import json, os\n",
    "from collections import Counter\n",
    "import numpy as np  \n",
    "morph = MorphAnalyzer()\n",
    "punct = punctuation+'«»—…“”*№–'\n",
    "stops = set(stopwords.words('russian')) \n",
    "from nltk.stem import WordNetLemmatizer\n",
    "wnl = WordNetLemmatizer()\n",
    "\n",
    "def normalize(text):\n",
    "    \n",
    "    words = [word.strip(punct) for word in text.lower().split()]\n",
    "    words = [morph.parse(word)[0].normal_form for word in words if word]\n",
    "\n",
    "    return words\n",
    "\n",
    "def tokenize(text):\n",
    "    \n",
    "    words = [word.strip(punct) for word in text.lower().split() if word and word not in stops]\n",
    "    words = [word for word in words if word]\n",
    "\n",
    "    return words"
   ]
  },
  {
   "cell_type": "markdown",
   "metadata": {},
   "source": [
    "## Подготовка 10 предложений"
   ]
  },
  {
   "cell_type": "markdown",
   "metadata": {},
   "source": [
    "Выбираем только те строчки, в которых есть слово \"break\""
   ]
  },
  {
   "cell_type": "code",
   "execution_count": 51,
   "metadata": {},
   "outputs": [],
   "source": [
    "break_lines = [line for line in open('corpus_eng.txt') if \"break\" in tokenize(line)]"
   ]
  },
  {
   "cell_type": "markdown",
   "metadata": {},
   "source": [
    "Выбираем из них 10 рандомных строчек"
   ]
  },
  {
   "cell_type": "code",
   "execution_count": 52,
   "metadata": {},
   "outputs": [
    {
     "data": {
      "text/plain": [
       "['Mr Hartzer said \"a longer-term road map of committed infrastructure investment\" could break the deadlock between consumers and businesses, who are currently looking to each other for cues on whether to spend. \\n',\n",
       " \"Al-Yousef said Fastaqim arrested one of its commanders during battle preparations in Aleppo after a rebel offensive launched last week to break the government's siege of the city's rebel neighborhoods.\\n\",\n",
       " 'Beauty Boss: How Rose-Marie Swift Built a Natural-Beauty Empire Dianna Mazzone Share Credit: Courtesy Growing up in small-town Canada, Rose-Marie Swift thought she wanted to become a fashion designer. But after a lucky break lead to a steady paycheck making over dancers at a local Vancouver hotel, the novice designer traded her sewing machine for a set of brushes. Fast-forward twenty years, and Swift was an in-demand makeup artist--working with models like Gisele and Miranda Kerr--when her physical health started to decline. After extensive testing, doctors found her blood contained high levels of heavy metals like aluminum, lead, and mercury, as well as other chemicals and pesticides. Thus began her studies of raw foodism, and her mission to create RMS Beauty, the award-winning line of all-natural makeup. Read her journey, and see if you don\\'t learn a thing or two about forging your own path in the face of adversity. What were your ambitions growing up? \"I always had an eye for fashion and elegance. My mom was a designer; she used to design wedding and evening gowns. She taught me how to sew. I got to doing really advanced tailoring and wanted to go to design college. I got in, and on the first day, they wanted us to sew tea towels. I said no way! They told me that no matter my skills, I had to start at the beginning. So I walked out of the school and never went back.\" What happened once you dropped out? \"I started playing around with makeup more. I was always doing my sister\\'s makeup and hair. And my sister knew a fellow who owned a lot of hotels in Vancouver. Now this was the 70\\'s; hotels had bars with dancers and poles, but it was more like burlesque. So I\\'d go in and do makeup. They\\'d always want the products that I used on them, which I got from a little label-free company in Vancouver. I would buy these little bits of makeup for 80 cents and sell them for four of five dollars. I\\'ve always been a little entrepreneurial.\" How did you transition into editorial work? \"It was a complete fluke. The owner of the place from where I was buying the makeup suggested me for a job at Vancouver magazine. I just went and I did it. The cover was so successful that I kept getting jobs. I stopped doing really fast after that! Soon I wanted to branch out, so I moved to Toronto. I would help models put their portfolios together, and for a long time I didn\\'t get paid. But it was the photographers--they liked my work. They didn\\'t know I had zero formal training. It was a catalog photographer that suggested me for jobs in Europe. I went back and forth for a while before moving to Miami in 1990, when all the catalogs started shooting there. But eventually I was becoming the catalog queen. So to distance myself from that, I moved to New York about a year later. It threw me for a bit of a loop, but in a good way. I had great luck--photographers kept introducing me to other photographers. All of a sudden, I\\'m working with Mario Sorrenti.\" Were you ever intimidated on set? \"I faked my way through those years. Because when people can tell you\\'re not confident, you\\'re busted. People like it when you have a strong opinion. It didn\\'t occur to me to be insecure, because I didn\\'t think I was really doing anything big.\" But you were doing something so big! Did you love working as a makeup artist in New York City? \"Yes. I\\'d been working almost two decades when I got sick; I started feeling unwell constantly. I went to the doctor for extensive blood work, and they found high levels of toxins in my body. It prompted me to become a raw foodist. For a while, I only wanted to focus on that--no more beauty. But then I realized it was possible to combine those interests. I remember when I was working with Victoria\\'s Secret models in the early 2000\\'s, instead of using putting petroleum all over them I came in with jojoba oil. It\\'s a yellow wax that melts into an oil, and it would give the most beautiful glow on the skin thanks to its warm tone. Models told me how soft their skin was at the end of the day, whereas petroleum would dry them out. It was that sort of thing that inspired me to start making little products. I came to realize that as long as I used the highest quality raw ingredients, I could create products that rivaled the performance of mainstream makeup. That\\'s how RMS Beauty was born.\" Now your business is nearly ten years old, and your products are sold through the likes of Bluemercury and Sephora.com. Are you still working as a makeup artist, or focusing on growing your line even more? \"Today I\\'m way more into my brand than I ever was about doing makeup. It\\'s the first time in my life that I really feel confident about something I\\'m doing. It\\'s mine--I\\'m completely in control. On set, I wasn\\'t in control of the lighting; I wasn\\'t in control of the styling. Now, I make the decisions, and I like that. I\\'m so proud of this brand. When women tell me they\\'re switching to my brand--or any natural brand, for that matter--that\\'s what makes me happy.\" Reblog\\n',\n",
       " 'A long day of camera blocking calls for a midday #MannequinChallenge break. #DWTS\\n',\n",
       " \"Next Getting back together with an ex boyfriend? Hello everyone so me and my ex boyfriend dated for a month I was really happy with him and we got really close then two days after our one month Anniversary he told me that he was seeing another girl in the time we dated and that he told her to stay away from him and then he asked me for distance and that we break... show more Hello everyone so me and my ex boyfriend dated for a month I was really happy with him and we got really close then two days after our one month Anniversary he told me that he was seeing another girl in the time we dated and that he told her to stay away from him and then he asked me for distance and that we break up because he doesn't want to break any girls heart and that he won't choose the one over the other but he really want me its just what he did to me was wrong and I don't deserve what he did to , he asked to be friends with me but ever since we broke up its just akkward if we see each other we will just stare and walk past I really really want him back do you guys think there is still a chance for us to get back together , thanks in advance Follow\\n\",\n",
       " 'When the students returned to school after the break, the researchers discovered that those students who wrote about their personal values were healthier, experienced fewer illnesses, and had better energy and attitude than the students who merely wrote about the positive events in their lives. \\n',\n",
       " 'The WTO said this week that a tax break from Washington state to help Boeing develop its new 777X jetliner was a prohibited subsidy, in a setback for the U.S. planemaker as it eyes victory in a parallel case against Airbus ( AIR.PA ). \\n',\n",
       " 'Edit Equipping yourself properly 1 Have your necessary materials all the time. You don\\'t want to be unprepared for sudden note-taking or a pop quiz by discovering you forgot your pencils/pens/erasers/and if that happens you will waste time and might miss some important information. 2 Be organized. Being organized helps you work better, relax and be ready to find and hand in stuff on time. There are plenty of ways to self-organize and it is best that you find the method that works best for you. The key is to be able to find what you need with ease, including the retrieval of information and your notes. Set up a system as soon as possible, including things like a good computer filing system, a good paper filing system, a desk-clearing policy (at least weekly) and a neat arrangement for your textbooks, writing books and associated reference manuals and books. Make use of highlighters, bright Post-It tags, and other items to label and highlight your organized items. Color coding works extremely well for lots of people, especially busy people and those who can\\'t abide reading labels! 3 Keep a calendar. Choose one that can fit in your folder or binder so that you can easily turn to it and find it when you need to use it. In this calendar, write down all your tests and assessments, and if your school has different academic classes on different days, write those down too. Also, make notes of study sessions or time you plan to spend doing homework. This keeps you aware of upcoming tests and other events, so you can study and prepare for them properly. Part 2 Edit Goal-setting 1 Set long-term or short-term goals . Even if you don\\'t know what you want to do when you grow up or what college you want to go to, your goal can be just to give yourself as many opportunities as possible. 2 Keep your attendance up. Your attendance is important at school. If you don\\'t go to school, your grades will obviously drop fast because you will have gaps in your learning that are difficult to backfill. If you have a genuine illness or other issue preventing you from attending school, have a parent, guardian or friend talk to your teachers about doing catch-up work from home. Part 3 Edit Learning skills 1 Write down notes . Notes will help solidify material in your head and will also serve as important study tools before a test. Be sure to write down everything important that the teacher goes over. If it helps, ask for a printout of the material beforehand so you can focus on taking notes on what the teacher is saying, not just copying down what is on the board. If the teachers write something on the board and they underline it chances are it\\'s important or it will be on future tests. 2 Make sure to answer / ask at least one question per class . This will show your teacher that you\\'re actively participating in class. But more than that, it also forces you to pay enough attention to be able to ask/answer questions. As a result, you\\'ll do much better on tests and quizzes. The ability to ask questions is a skill that you\\'ll need throughout life, and ensures that you can keep a check on the motivations and ideas that you come across in various walks of life. When you pick a question to answer, make sure you know the answer and the questions are not too easy. Don\\'t worry about asking too many questions; it\\'s the teacher\\'s job to help you. Participation in class is often an important factor of your grade. Raising your hand once or twice in class doesn\\'t do any harm, especially if you remember that \"there is no such thing as a stupid question\" when it comes to learning in class. Many times people will be wondering the same thing but lacked the courage to ask it! 3 Listen actively. Don\\'t just ask questions or talk. Learn to listen too. Eighty percent of the questions you find on any test were explained in class. The key to many understandings of the materials presented is often through listening to the teacher\\'s explanations. Part 4 Edit Homework and revision 1 Revise/study at home. Do this in a quiet place with no distractions. If the computer is in your room, take it out or go to another room. Don\\'t study with the radio on! It might help you write more but on the day of the exam, the only thing you\\'ll remember will be the lyrics. Make a schedule. Making a self-schedule could help you save time for self-study/revision as well as keeping you on track on what you\\'re doing and what to do next. Rewrite your notes. Yes, this may sound boring and time-consuming, but it\\'s been proven to help you remember more of what you wrote down. It also helps you to figure out problems you might have had in the class. 2 Put effort into your homework. Though it seems like a torture device, homework is a way of controlling and making progress outside of the classroom. This isn\\'t very comforting the night you have two essays and algebra to do, though, so remember to do the actual homework and keep up with the workload. If you\\'re having serious difficulties, talk to your teachers and parents to come up with a schedule for your homework . 3 Take breaks now and then. Instead of multitasking, set aside a certain amount of time to do homework. When that set amount of time is over, take a 20-30 minute break to keep your mind from getting tired. When that time is up, go back to doing 100% homework. 4 Start large assignments and projects early. If you have two weeks to do a project, rather than putting it off till the last three days before it\\'s due, start working early. This way you can spend enough time planning, researching, and asking any questions you have about the project. The whole experience will be much less stressful since you won\\'t have to rush through it. You\\'ll also have plenty of time to make the project as good as it can be, which means that you\\'ll get a better grade. 5 Take a practice test before the exam to further your understanding of what you need to study. Be careful, though, taking dozens of practice tests is a much less effective way to study than combining one or two with other forms of study. 6 Study during the holidays and vacation from school. If after the holidays you have a test and have not reviewed over the holiday period, your mind will have switched off and you will have forgotten a lot of things that you have learned before the holidays. Therefore you are likely to fail the test or do badly in it. Get a book at your grade level for any new class subject you will be taking next term such as chemistry, and read or scan it closely. Look at all the illustrations, charts, definitions, and learn things like the chemical symbols (C is carbon, H is Hydrogen, Zn is zinc, Au is gold, Ag is silver.). Read chapter summaries. Treat the holidays like any weekends: Yes, you can relax and have fun, but study at least 3 times a week so you don\\'t forget everything you have learned. Ask your parents or friends to sit with you and review over what you have difficulty with, or that you need to memorize and recite. Part 5 1 Study with friends . Reviewing with your friends during free time can help keep you focused. Make sure that you work with people who you can focus around. Any time you spend chatting instead of studying is wasted time as far as the study group is concerned. For some people, working in a group may be hard to do because friends can distract you from your studies. Or, you may be someone who actually works better without other people around; do not view this as anything wrong, it is simply about your personal makeup––for example, you may be a deep thinker who needs time and space to digest issues fully. Be aware that this does not mean you\\'re not capable of working in teams; quite the opposite, you are more likely to be a good team player if you understand the issues properly. Part 6 Edit Troubleshooting 1 Ask for clarifications when you don\\'t understand things. Asking for help if you don\\'t \"get\" what the question is asking is the only way you\\'re going to find out what to do. Pretending you know and making it up as you go will only prolong the agony and can reduce your marks. 2 Learn from your mistakes. Don\\'t see mistakes as personal flaws; failures are a guidance in how to do better. Pay attention in class when something is being corrected. Mark your work clearly and carefully so that it is useful in preventing other errors in the future. You will learn a lot more if you use your mistakes and failures to guide you to the correct approaches and results. 3 Meet with your teacher outside of class. If you do not understand a concept during class time, meeting with your teacher outside of class will help you understand it better and will also build a strong relationship with you and your teacher. 4 Ask for help. Looking over guidebooks may help you in classes with which you are struggling. Alternatively, you could go to the teacher for extra help, have a friend coach you, or ask your parents to hire a tutor. Never be afraid to ask your tutor for help. They can help you with any subject, and there is no need to feel dumb or ashamed that you need help. 5 Be persistent ! Don\\'t only start well and let it fall apart. Keep your study plans active and working for your success. Reward yourself when you do well. Part 7 Edit Exam and test time 1 Relax . Don\\'t freak out over tests. Start studying more than one day before the exam so that you have plenty of time to ask questions when you don\\'t understand. Part 8 Edit General well-being 1 Sleep well every night . Sleep will improve your memory and concentration skills, which in turn will lead to you doing better in school. 2 Eat a healthy breakfast. Food is energy for your brain and having food in you before school starts can help you concentrate and focus. If you can\\'t get breakfast for some reason, speak to your teacher about school programs or assistance for breakfast. 3 Join extracurricular activities. This will allow you to make more friends, do something fun, and have something to add on a college or even job resume to show people that you are a well rounded-individual. Find something that you enjoy doing to balance out the work. But don\\'t spend too much time on it that you don\\'t get to your homework. 4 Make sure you study and be determined to do well. There is no need for hours on end of studying, but see how much time you have until the exam and divide the amount into equal amounts of studying each day. Remember to balance it out. Go out with friends at the weekend and maybe on one weekday, but make sure you don\\'t forget about the work. Edit Tips Use the Internet as a tool rather than for entertainment. Switch off all tabs containing games, videos or social networks so that you are not tempted to be distracted. Don\\'t worry about the other kids in your class not doing their work; they are not your problem. If you focus on your work, you will get the good grades, not them. Read all kinds of books. This way, you\\'ll learn how to understand different kinds of text and it\\'ll become interesting. Make sure you can see the board or multimedia in every class. It is better to see than to seat yourself awkwardly just so you can be with your best friend. Read more to improve reading speed and comprehension . If you can\\'t read well , find a tutor such as an older student, a teacher, someone who is willing to listen as you read. Being smart is cool. Don\\'t panic if you think that just because you are smart, you are a dork. Clever people are people who will do well in life. If anyone bullies you over being smart, stand up to them and say something like \"Well, when I am the successful one, you\\'ll still be trying to keep up!.\" Involve your parents. Ask them to check your work. Maybe you or the teacher marked the work incorrectly. Double check your answers if you are not sure it is right. And most importantly, relax! If you have a friend that distracts you in class, tell them you will see them at recess or lunch and sit beside someone who will not distract you. Friends who distract you can be the downfall of your school grades. Be attentive in class and listen carefully what your teachers say. Don\\'t sit by someone you know will talk to you. Focus more on your studies. Don\\'t stress too much. As long as you\\'ve done your very best, you can be satisfied. Besides, worrying won\\'t make your grade any higher, and it\\'ll just distract you from other classes. Sit straight. Posture is important, if you\\'re aching in class it could distract your concentration in general. Don\\'t give up hardworking. Getting bad grade once isn\\'t the end of the world. Just keep working and trying! Keep a tidy desk. That way, you won\\'t have to waste time searching for your stuff. Pay your concentration towards the teacher and learn from your and other student\\'s mistakes. Be calm and don\\'t stress. Form a study group with friends. So you can get better grades! Learn how to take good notes in class, as this is invaluable in high school. Ask questions If you have a lack in self confidence here\\'s a little tip, you could tutor a friend or a younger one, it will surely boost your confidence and make you smile, even though it\\'s hard. If you have a friend or a best friend, try not to sit with them in lessons unless the teacher says so because you might start having a little chat with them. Surround yourself with people who want to succeed and will encourage you to do the same. Studies have shown that peer groups have the greatest influence on academic performance. Have a good friend by your side who is committed to school. If your friends aren\\'t committed to school, it won\\'t help you do well. It\\'s okay if you fail one test. Don\\'t let a test ruin your life. Study hard, but be sure to have a break time to time. Be positive and keep on going no matter what obstacle. if your classmate tries to distract you, just ignore them and they will eventually stop. Listen your teacher and what she teaches you. It will come in handy. Always go the toilet beforehand. Edit Warnings Don\\'t procrastinate. It will just put more stress on you and make the quality of your work poorer. Make sure to be with friends who will have your back, whatever you do, and are really true friends. Reviewing with your friends may help you to identify and improve areas you may be lack confidence in. Keep calm and don\\'t freak out about a test or assignment. It\\'s okay to be nervous, but it\\'s not okay to let that nervousness compromise your true abilities. It\\'s fine to have fun or take a break, but not in advance! You\\'re putting off your homework, and eventually you\\'ll either lose 3 hours of sleep, or your grades will go down for not handing in the assignment, often accompanied by some form of punishment (either from your body, since you haven\\'t rested enough, your parents because of your bad grades, or your teacher, for not handing in the assignment.) Don\\'t cheat. You may get in trouble with the school and face punishments. You are learning nothing and putting your grades and your allowance for the next 4 weeks in danger. This goes for buddy-to-buddy and copy-and-paste off the computer as well. If things are hard for you, don\\'t worry, just think of something that makes you happy and it will be all right. Remember you\\'re not the only one that feels this way.\\n',\n",
       " \"Bayern Munich suffered a 3-2 loss against Russia's Rostov in the Champions League on Wednesday (AFP Photo/Kirill Kudryavstev) More Berlin (AFP) - Faltering Bayern Munich hope to break their second mini winless streak this season when they host Bayer Leverkusen on Saturday to launch their counter-attack on top spot in Germany.\\n\",\n",
       " \"If that fails then it's time to break out your nut tool , which are also made to use on stuck cams as well as nuts. The thin profile of the nut tool allows you to pull and hold the cam's trigger. Sometimes you can use a couple fingers on one side of the trigger bar and the nut tool on the opposite side, alternately pulling to release the stuck lobes. Use the holes in the side of the nut tool also to snag the end of the trigger bar and apply pressure. You can also use the hooked end of the nut tool to pull on an individual cam lobe to release the pressure on the crack sidewalls. Figure Out Which Cam Lobes are Wedged \\n\"]"
      ]
     },
     "execution_count": 52,
     "metadata": {},
     "output_type": "execute_result"
    }
   ],
   "source": [
    "random.sample(break_lines, 10)"
   ]
  },
  {
   "cell_type": "markdown",
   "metadata": {},
   "source": [
    "Вручную выбираем из этой выборки 10 предложений со словом \"break\". (Это несложно сделать автоматически, пример будет в конце кода, просто на тот момент было проще достать руками).\n",
    "\n",
    "1. If you are visiting during Spring Break, be prepared to wait in line for busy attractions like Harry Potter and the Forbidden Journey.\n",
    "\n",
    "2. My fellow Frenchmen have told me, everywhere, they want to break away from a bureaucratic system which saps their energy.\n",
    "\n",
    "3. A large group of armed Native Americans break into a federal building in Oregon to protest land use rules. \n",
    "\n",
    "4. The 31-year-old will break Michael Atherton's record of 54 Tests as captain during the first match against India.\n",
    "\n",
    "5. The whole thing arrives like a pretty vibed out, slow-motion take on the original, but Premier flips the whole thing around by the 2:50 mark when he plays off the song's fast paced break.\n",
    "\n",
    "6. We can’t wait to see what the show has in store for her next–as long as it’s a storyline allowing her to FINALLY catch a break because she could seriously use one.\n",
    "\n",
    "7. “I’m really good at trains but I can’t seem to figure out people,” he says at one point. “Yes, I broke the law but what do we do about the diagnosis that caused me to break the law?”\n",
    "\n",
    "8. \"Unfortunately, this is the latest in a series of incidents that highlight the need for greater investment in our city facilities,\" Turner said, pointing to a September water line break at the city\\'s main administrative building at 611 Walker, among other episodes.\n",
    "\n",
    "9. The Cardinal made 11 of 13 shots in the second quarter and led 46-15 at the break.\n",
    "\n",
    "10. Mr Hartzer said \"a longer-term road map of committed infrastructure investment\" could break the deadlock between consumers and businesses, who are currently looking to each other for cues on whether to spend."
   ]
  },
  {
   "cell_type": "markdown",
   "metadata": {},
   "source": [
    "Определяем их значения с помощью собственных знаний английского языка и определений из ворднета (уже на этом этапе точность, увы, не гарантирована).\n",
    "Сначала достаём все значения слова break."
   ]
  },
  {
   "cell_type": "code",
   "execution_count": 53,
   "metadata": {},
   "outputs": [
    {
     "name": "stdout",
     "output_type": "stream",
     "text": [
      "1. break - some abrupt occurrence that interrupts an ongoing activity\n",
      "2. break - an unexpected piece of good luck\n",
      "3. break - (geology) a crack in the earth's crust resulting from the displacement of one side with respect to the other\n",
      "4. break - a personal or social separation (as between opposing factions)\n",
      "5. break - a pause from doing something (as work)\n",
      "6. break - the act of breaking something\n",
      "7. break - a time interval during which there is a temporary cessation of something\n",
      "8. break - breaking of hard tissue such as bone\n",
      "9. break - the occurrence of breaking\n",
      "10. break - an abrupt change in the tone or register of the voice (as at puberty or due to emotion)\n",
      "11. break - the opening shot that scatters the balls in billiards or pool\n",
      "12. break - (tennis) a score consisting of winning a game when your opponent was serving\n",
      "13. break - an act of delaying or interrupting the continuity\n",
      "14. break - a sudden dash\n",
      "15. break - any frame in which a bowler fails to make a strike or spare\n",
      "16. break - an escape from jail\n",
      "17. break - terminate\n",
      "18. break - become separated into pieces or fragments\n",
      "19. break - render inoperable or ineffective\n",
      "20. break - ruin completely\n",
      "21. break - destroy the integrity of; usually by force; cause to separate into pieces or fragments\n",
      "22. break - act in disregard of laws, rules, contracts, or promises\n",
      "23. break - move away or escape suddenly\n",
      "24. break - scatter or part\n",
      "25. break - force out or release suddenly and often violently something pent up\n",
      "26. break - prevent completion\n",
      "27. break - enter someone's (virtual or real) property in an unauthorized manner, usually with the intent to steal or commit a violent act\n",
      "28. break - make submissive, obedient, or useful\n",
      "29. break - fail to agree with; be in violation of; as of rules or patterns\n",
      "30. break - surpass in excellence\n",
      "31. break - make known to the public information that was previously known only to a few people or that was meant to be kept a secret\n",
      "32. break - come into being\n",
      "33. break - stop operating or functioning\n",
      "34. break - interrupt a continued activity\n",
      "35. break - make a rupture in the ranks of the enemy or one's own by quitting or fleeing\n",
      "36. break - curl over and fall apart in surf or foam, of waves\n",
      "37. break - lessen in force or effect\n",
      "38. break - be broken in\n",
      "39. break - come to an end\n",
      "40. break - vary or interrupt a uniformity or continuity\n",
      "41. break - cause to give up a habit\n",
      "42. break - give up\n",
      "43. break - come forth or begin from a state of latency\n",
      "44. break - happen or take place\n",
      "45. break - cause the failure or ruin of\n",
      "46. break - invalidate by judicial action\n",
      "47. break - discontinue an association or relation; go different ways\n",
      "48. break - assign to a lower position; reduce in rank\n",
      "49. break - reduce to bankruptcy\n",
      "50. break - change directions suddenly\n",
      "51. break - emerge from the surface of a body of water\n",
      "52. break - break down, literally or metaphorically\n",
      "53. break - do a break dance\n",
      "54. break - exchange for smaller units of money\n",
      "55. break - destroy the completeness of a set of related items\n",
      "56. break - make the opening shot that scatters the balls\n",
      "57. break - separate from a clinch, in boxing\n",
      "58. break - go to pieces\n",
      "59. break - break a piece from a whole\n",
      "60. break - become punctured or penetrated\n",
      "61. break - pierce or penetrate\n",
      "62. break - be released or become known; of news\n",
      "63. break - cease an action temporarily\n",
      "64. break - interrupt the flow of current in\n",
      "65. break - undergo breaking\n",
      "66. break - find a flaw in\n",
      "67. break - find the solution or key to\n",
      "68. break - change suddenly from one tone quality or register to another\n",
      "69. break - happen\n",
      "70. break - become fractured; break or crack on the surface only\n",
      "71. break - crack; of the male voice in puberty\n",
      "72. break - fall sharply\n",
      "73. break - fracture a bone of\n",
      "74. break - diminish or discontinue abruptly\n",
      "75. break - weaken or destroy in spirit or body\n"
     ]
    }
   ],
   "source": [
    "word = 'break'\n",
    "n = 1\n",
    "for synset in wn.synsets(word):\n",
    "    print(str(n) + '. ' + word + ' - ' + synset.definition())\n",
    "    n += 1"
   ]
  },
  {
   "cell_type": "markdown",
   "metadata": {},
   "source": [
    "Что ж, их немало. 75. Вау. Посмотрим только на существительные."
   ]
  },
  {
   "cell_type": "code",
   "execution_count": 54,
   "metadata": {},
   "outputs": [
    {
     "name": "stdout",
     "output_type": "stream",
     "text": [
      "1. break - some abrupt occurrence that interrupts an ongoing activity\n",
      "2. break - an unexpected piece of good luck\n",
      "3. break - (geology) a crack in the earth's crust resulting from the displacement of one side with respect to the other\n",
      "4. break - a personal or social separation (as between opposing factions)\n",
      "5. break - a pause from doing something (as work)\n",
      "6. break - the act of breaking something\n",
      "7. break - a time interval during which there is a temporary cessation of something\n",
      "8. break - breaking of hard tissue such as bone\n",
      "9. break - the occurrence of breaking\n",
      "10. break - an abrupt change in the tone or register of the voice (as at puberty or due to emotion)\n",
      "11. break - the opening shot that scatters the balls in billiards or pool\n",
      "12. break - (tennis) a score consisting of winning a game when your opponent was serving\n",
      "13. break - an act of delaying or interrupting the continuity\n",
      "14. break - a sudden dash\n",
      "15. break - any frame in which a bowler fails to make a strike or spare\n",
      "16. break - an escape from jail\n"
     ]
    }
   ],
   "source": [
    "word = 'break'\n",
    "n = 1\n",
    "for synset in wn.synsets(word, pos=wn.NOUN):\n",
    "    print(str(n) + '. ' + word + ' - ' + synset.definition())\n",
    "    n += 1"
   ]
  },
  {
   "cell_type": "markdown",
   "metadata": {},
   "source": [
    "Уже немного лучше. \n",
    "\n",
    "У нас есть следующие предложения, где break -- существительное.\n",
    "\n",
    "1. If you are visiting during Spring Break, be prepared to wait in line for busy attractions like Harry Potter and the Forbidden Journey.\n",
    "\n",
    "5. The whole thing arrives like a pretty vibed out, slow-motion take on the original, but Premier flips the whole thing around by the 2:50 mark when he plays off the song's fast paced break.\n",
    "\n",
    "6. We can’t wait to see what the show has in store for her next–as long as it’s a storyline allowing her to FINALLY catch a break because she could seriously use one.\n",
    "\n",
    "8. \"Unfortunately, this is the latest in a series of incidents that highlight the need for greater investment in our city facilities,\" Turner said, pointing to a September water line break at the city\\'s main administrative building at 611 Walker, among other episodes.\n",
    "\n",
    "9. The Cardinal made 11 of 13 shots in the second quarter and led 46-15 at the break.\n",
    "\n",
    "Видно, что значение \"перерыв\" очень распространенное -- только в этой выборке этому значению соответствуют варианты 1, 6, 9. Впрочем, можно заметить, что значения для существительных 5 и 7 достаточно схожи (перерыв в работе и перерыв по расписанию). Будем считать, что 5 относится к вынужденному перерыву для отдыха, а 7 -- к запланированному перерыву, тогда получаем:\n",
    "\n",
    "Предложения 1, 9 -- a time interval during which there is a temporary cessation of something. \n",
    "Предложение 5 -- some abrupt occurrence that interrupts an ongoing activity (неточно, но лучше из этих вариантов ничего не нашлось). \n",
    "Предложение 6 -- good luck, happy chance (an unexpected piece of good luck).\n",
    "Предложение 8 -- the occurrence of breaking. "
   ]
  },
  {
   "cell_type": "markdown",
   "metadata": {},
   "source": [
    "Сделаем то же для глаголов. Чтобы не сбивать нумерацию, пусть значения для глаголов начинаются с 17. "
   ]
  },
  {
   "cell_type": "code",
   "execution_count": 55,
   "metadata": {},
   "outputs": [
    {
     "name": "stdout",
     "output_type": "stream",
     "text": [
      "17. break - terminate\n",
      "18. break - become separated into pieces or fragments\n",
      "19. break - render inoperable or ineffective\n",
      "20. break - ruin completely\n",
      "21. break - destroy the integrity of; usually by force; cause to separate into pieces or fragments\n",
      "22. break - act in disregard of laws, rules, contracts, or promises\n",
      "23. break - move away or escape suddenly\n",
      "24. break - scatter or part\n",
      "25. break - force out or release suddenly and often violently something pent up\n",
      "26. break - prevent completion\n",
      "27. break - enter someone's (virtual or real) property in an unauthorized manner, usually with the intent to steal or commit a violent act\n",
      "28. break - make submissive, obedient, or useful\n",
      "29. break - fail to agree with; be in violation of; as of rules or patterns\n",
      "30. break - surpass in excellence\n",
      "31. break - make known to the public information that was previously known only to a few people or that was meant to be kept a secret\n",
      "32. break - come into being\n",
      "33. break - stop operating or functioning\n",
      "34. break - interrupt a continued activity\n",
      "35. break - make a rupture in the ranks of the enemy or one's own by quitting or fleeing\n",
      "36. break - curl over and fall apart in surf or foam, of waves\n",
      "37. break - lessen in force or effect\n",
      "38. break - be broken in\n",
      "39. break - come to an end\n",
      "40. break - vary or interrupt a uniformity or continuity\n",
      "41. break - cause to give up a habit\n",
      "42. break - give up\n",
      "43. break - come forth or begin from a state of latency\n",
      "44. break - happen or take place\n",
      "45. break - cause the failure or ruin of\n",
      "46. break - invalidate by judicial action\n",
      "47. break - discontinue an association or relation; go different ways\n",
      "48. break - assign to a lower position; reduce in rank\n",
      "49. break - reduce to bankruptcy\n",
      "50. break - change directions suddenly\n",
      "51. break - emerge from the surface of a body of water\n",
      "52. break - break down, literally or metaphorically\n",
      "53. break - do a break dance\n",
      "54. break - exchange for smaller units of money\n",
      "55. break - destroy the completeness of a set of related items\n",
      "56. break - make the opening shot that scatters the balls\n",
      "57. break - separate from a clinch, in boxing\n",
      "58. break - go to pieces\n",
      "59. break - break a piece from a whole\n",
      "60. break - become punctured or penetrated\n",
      "61. break - pierce or penetrate\n",
      "62. break - be released or become known; of news\n",
      "63. break - cease an action temporarily\n",
      "64. break - interrupt the flow of current in\n",
      "65. break - undergo breaking\n",
      "66. break - find a flaw in\n",
      "67. break - find the solution or key to\n",
      "68. break - change suddenly from one tone quality or register to another\n",
      "69. break - happen\n",
      "70. break - become fractured; break or crack on the surface only\n",
      "71. break - crack; of the male voice in puberty\n",
      "72. break - fall sharply\n",
      "73. break - fracture a bone of\n",
      "74. break - diminish or discontinue abruptly\n",
      "75. break - weaken or destroy in spirit or body\n"
     ]
    }
   ],
   "source": [
    "word = 'break'\n",
    "n = 17\n",
    "for synset in wn.synsets(word, pos=wn.VERB):\n",
    "    print(str(n) + '. ' + word + ' - ' + synset.definition())\n",
    "    n += 1"
   ]
  },
  {
   "cell_type": "markdown",
   "metadata": {},
   "source": [
    "59 значений (хорошо, хотя бы наречий и прилагательных среди значений слова break нет).  \n",
    "\n",
    "1. My fellow Frenchmen have told me, everywhere, they want a to break away from a bureaucratic system which saps their energy.\n",
    "\n",
    "Будем считать, что это 23. break - move away or escape suddenly\n",
    "\n",
    "2. A large group of armed Native Americans break into a federal building in Oregon to protest land use rules.\n",
    "\n",
    "Будем считать, что это 27. break - enter someone's (virtual or real) property in an unauthorized manner, usually with the intent to steal or commit a violent act\n",
    "\n",
    "3. The 31-year-old will break Michael Atherton's record of 54 Tests as captain during the first match against India.\n",
    "\n",
    "Будем считать, что это 30. break - surpass in excellence\n",
    "\n",
    "4. “I’m really good at trains but I can’t seem to figure out people,” he says at one point. “Yes, I broke the law but what do we do about the diagnosis that caused me to break the law?”\n",
    "\n",
    "Будем считать, что это 22. break - act in disregard of laws, rules, contracts, or promises\n",
    "\n",
    "5. Mr Hartzer said \"a longer-term road map of committed infrastructure investment\" could break the deadlock between consumers and businesses, who are currently looking to each other for cues on whether to spend.\n",
    "\n",
    "Будем считать, что это 20. break - ruin completely"
   ]
  },
  {
   "cell_type": "markdown",
   "metadata": {},
   "source": [
    "## Алгоритм Леска\n",
    "Мы как будто закончили с соотнесением наших предложений и значений глагола break. Начнем использовать алгоритм Леска.  "
   ]
  },
  {
   "cell_type": "code",
   "execution_count": 56,
   "metadata": {},
   "outputs": [],
   "source": [
    "def lesk(word, sentence): \n",
    "    bestsense = 0\n",
    "    maxoverlap = 0\n",
    "    contexts = []\n",
    "    for i, synset in enumerate(wn.synsets(word)):\n",
    "        definition = tokenize(synset.definition())\n",
    "        definition = set(definition)\n",
    "        sentence = set(sentence)\n",
    "        overlap = len(definition & sentence)\n",
    "        if overlap > maxoverlap:\n",
    "            maxoverlap = overlap\n",
    "            bestsense = i \n",
    "    \n",
    "    #т.к. нумерация в списке значений была с единицы\n",
    "    return bestsense + 1"
   ]
  },
  {
   "cell_type": "code",
   "execution_count": 57,
   "metadata": {},
   "outputs": [],
   "source": [
    "sentences = [\"If you are visiting during Spring Break, be prepared to wait in line for busy attractions like Harry Potter and the Forbidden Journey.\", \n",
    "             \"My fellow Frenchmen have told me, everywhere, they want to break away from a bureaucratic system which saps their energy.\", \n",
    "             \"A large group of armed Native Americans break into a federal building in Oregon to protest land use rules.\", \n",
    "             \"The 31-year-old will break Michael Atherton's record of 54 Tests as captain during the first match against India.\", \n",
    "             \"The whole thing arrives like a pretty vibed out, slow-motion take on the original, but Premier flips the whole thing around by the 2:50 mark when he plays off the song's fast paced break.\", \n",
    "             \"We can’t wait to see what the show has in store for her next–as long as it’s a storyline allowing her to FINALLY catch a break because she could seriously use one.\", \n",
    "             \"“I’m really good at trains but I can’t seem to figure out people,” he says at one point. “Yes, I broke the law but what do we do about the diagnosis that caused me to break the law?”\", \n",
    "             \"\\\"Unfortunately, this is the latest in a series of incidents that highlight the need for greater investment in our city facilities,\\\" Turner said, pointing to a September water line break at the city's main administrative building at 611 Walker, among other episodes.\", \n",
    "             \"The Cardinal made 11 of 13 shots in the second quarter and led 46-15 at the break.\", \n",
    "             \"Mr Hartzer said \\\"a longer-term road map of committed infrastructure investment\\\" could break the deadlock between consumers and businesses, who are currently looking to each other for cues on whether to spend.\"]\n",
    "\n",
    "meanings = [7, 23, 27, 30, 1, 2, 22, 9, 7, 20]\n",
    "noun_meanings = [7, 1, 2, 9, 7]\n",
    "verb_meanings = [23, 27, 30, 22, 20]"
   ]
  },
  {
   "cell_type": "code",
   "execution_count": 58,
   "metadata": {},
   "outputs": [
    {
     "name": "stdout",
     "output_type": "stream",
     "text": [
      "Значение по Леску:  3 Значение по стандарту:  7\n",
      "Значение по Леску:  3 Значение по стандарту:  23\n",
      "Значение по Леску:  3 Значение по стандарту:  27\n",
      "Значение по Леску:  10 Значение по стандарту:  30\n",
      "Значение по Леску:  35 Значение по стандарту:  1\n",
      "Значение по Леску:  3 Значение по стандарту:  2\n",
      "Значение по Леску:  31 Значение по стандарту:  22\n",
      "Значение по Леску:  3 Значение по стандарту:  9\n",
      "Значение по Леску:  10 Значение по стандарту:  7\n",
      "Значение по Леску:  3 Значение по стандарту:  20\n"
     ]
    }
   ],
   "source": [
    "for i, sentence in enumerate(sentences): \n",
    "    print (\"Значение по Леску: \", lesk (\"break\", tokenize(sentence)), \"Значение по стандарту: \", meanings[i])"
   ]
  },
  {
   "cell_type": "markdown",
   "metadata": {},
   "source": [
    "Вообще ничего не совпадает. Не очень здорово, но попробуем что-то улучшить. 3 значение кажется очень мусорным, но пока начнем с того, что хотя бы используем частеречную разметку."
   ]
  },
  {
   "cell_type": "markdown",
   "metadata": {},
   "source": [
    "## Сортировка по частям речи"
   ]
  },
  {
   "cell_type": "code",
   "execution_count": 59,
   "metadata": {
    "scrolled": true
   },
   "outputs": [
    {
     "data": {
      "text/plain": [
       "['If you are visiting during Spring Break, be prepared to wait in line for busy attractions like Harry Potter and the Forbidden Journey.',\n",
       " \"The whole thing arrives like a pretty vibed out, slow-motion take on the original, but Premier flips the whole thing around by the 2:50 mark when he plays off the song's fast paced break.\",\n",
       " 'We can’t wait to see what the show has in store for her next–as long as it’s a storyline allowing her to FINALLY catch a break because she could seriously use one.',\n",
       " '\"Unfortunately, this is the latest in a series of incidents that highlight the need for greater investment in our city facilities,\" Turner said, pointing to a September water line break at the city\\'s main administrative building at 611 Walker, among other episodes.',\n",
       " 'The Cardinal made 11 of 13 shots in the second quarter and led 46-15 at the break.']"
      ]
     },
     "execution_count": 59,
     "metadata": {},
     "output_type": "execute_result"
    }
   ],
   "source": [
    "#разобьем предложения на те, где break -- глагол и на те, где break -- существительное\n",
    "\n",
    "noun_sentences = []\n",
    "verb_sentences = []\n",
    "for sentence in sentences: \n",
    "    for word in (nltk.pos_tag(sentence.split())):\n",
    "        if word[0].strip(\",. \") == \"break\" or word[0].strip(\",. \") == \"Break\":\n",
    "            if \"NN\" in word[1]:\n",
    "                noun_sentences.append(sentence)\n",
    "            else:\n",
    "                verb_sentences.append(sentence)\n",
    "\n",
    "noun_sentences                "
   ]
  },
  {
   "cell_type": "code",
   "execution_count": 60,
   "metadata": {},
   "outputs": [
    {
     "data": {
      "text/plain": [
       "['My fellow Frenchmen have told me, everywhere, they want to break away from a bureaucratic system which saps their energy.',\n",
       " 'A large group of armed Native Americans break into a federal building in Oregon to protest land use rules.',\n",
       " \"The 31-year-old will break Michael Atherton's record of 54 Tests as captain during the first match against India.\",\n",
       " '“I’m really good at trains but I can’t seem to figure out people,” he says at one point. “Yes, I broke the law but what do we do about the diagnosis that caused me to break the law?”',\n",
       " 'Mr Hartzer said \"a longer-term road map of committed infrastructure investment\" could break the deadlock between consumers and businesses, who are currently looking to each other for cues on whether to spend.']"
      ]
     },
     "execution_count": 60,
     "metadata": {},
     "output_type": "execute_result"
    }
   ],
   "source": [
    "verb_sentences"
   ]
  },
  {
   "cell_type": "markdown",
   "metadata": {},
   "source": [
    "Будем анализировать эти предложения раздельно. Предварительно добавим нормализацию."
   ]
  },
  {
   "cell_type": "code",
   "execution_count": 61,
   "metadata": {},
   "outputs": [],
   "source": [
    "norm_verb_sentences = [normalize(sentence) for sentence in verb_sentences]\n",
    "norm_noun_sentences = [normalize(sentence) for sentence in noun_sentences]"
   ]
  },
  {
   "cell_type": "markdown",
   "metadata": {},
   "source": [
    "**Алгоритм Леска с нормализацией**\n",
    "\n",
    "Также мы определили, что длина определения слишком мала, а примеры есть не во всех случаях, поэтому мы пробуем использовать слова и из определения, и из примеров."
   ]
  },
  {
   "cell_type": "code",
   "execution_count": 72,
   "metadata": {},
   "outputs": [],
   "source": [
    "#вариант леска для глаголов с нормализацией\n",
    "def lesk_verb(word, sentence): \n",
    "    bestsense = 0\n",
    "    maxoverlap = 0\n",
    "    contexts = []\n",
    "    for i, synset in enumerate(wn.synsets(word, pos=wn.VERB)):\n",
    "        definition = normalize(synset.definition())\n",
    "        definition = set(definition)\n",
    "        sentence = set(sentence)\n",
    "        overlap = len(definition & sentence) \n",
    "        words_overlap = definition & sentence\n",
    "        if overlap > maxoverlap:\n",
    "            maxoverlap = overlap\n",
    "            bestsense = i  \n",
    "            maxwordsoverlap = words_overlap\n",
    "    \n",
    "    #значения глаголов идут после существительных\n",
    "    return bestsense + 17, maxoverlap, maxwordsoverlap\n",
    "\n",
    "#вариант леска для глаголов с нормализацией и примерами\n",
    "def lesk_verb_example(word, sentence): \n",
    "    bestsense = 0\n",
    "    maxoverlap = 0\n",
    "    contexts = []\n",
    "    for i, synset in enumerate(wn.synsets(word, pos=wn.VERB)): \n",
    "        definition = normalize(\" \".join(synset.examples()))+normalize(synset.definition()) \n",
    "        definition = set(definition)\n",
    "        sentence = set(sentence)\n",
    "        overlap = len(definition & sentence) \n",
    "        words_overlap = definition & sentence\n",
    "        if overlap > maxoverlap:\n",
    "            maxoverlap = overlap\n",
    "            bestsense = i  \n",
    "            maxwordsoverlap = words_overlap\n",
    "            \n",
    "    \n",
    "    #значения глаголов идут после существительных\n",
    "    return bestsense + 17, maxoverlap, maxwordsoverlap"
   ]
  },
  {
   "cell_type": "markdown",
   "metadata": {},
   "source": [
    "**Уберем стоп-слова**"
   ]
  },
  {
   "cell_type": "code",
   "execution_count": 73,
   "metadata": {},
   "outputs": [
    {
     "name": "stdout",
     "output_type": "stream",
     "text": [
      "Значение по Леску, пересечения:  (23, 1, {'away'}) Значение по стандарту:  23\n",
      "Значение по Леску, пересечения:  (22, 1, {'rules'}) Значение по стандарту:  27\n",
      "Значение по Леску, пересечения:  (52, 1, {'break'}) Значение по стандарту:  30\n",
      "Значение по Леску, пересечения:  (31, 1, {'people'}) Значение по стандарту:  22\n",
      "Значение по Леску, пересечения:  (52, 1, {'break'}) Значение по стандарту:  20\n"
     ]
    }
   ],
   "source": [
    "stopWords = set(stopwords.words('english'))\n",
    "\n",
    "for i, sentence in enumerate(norm_verb_sentences): \n",
    "    sentence = [word for word in sentence if word not in stopWords]\n",
    "    print (\"Значение по Леску, пересечения: \", lesk_verb (\"break\", sentence), \"Значение по стандарту: \", verb_meanings[i])"
   ]
  },
  {
   "cell_type": "markdown",
   "metadata": {},
   "source": [
    "Без примеров уже что-то определяет (правда, слов-пересечений очень мало). Попробуем вариант с примерами."
   ]
  },
  {
   "cell_type": "code",
   "execution_count": 74,
   "metadata": {},
   "outputs": [
    {
     "name": "stdout",
     "output_type": "stream",
     "text": [
      "Значение по Леску, пересечения:  (23, 2, {'break', 'away'}) Значение по стандарту:  23\n",
      "Значение по Леску, пересечения:  (22, 2, {'break', 'rules'}) Значение по стандарту:  27\n",
      "Значение по Леску, пересечения:  (30, 2, {'record', 'break'}) Значение по стандарту:  30\n",
      "Значение по Леску, пересечения:  (22, 2, {'break', 'law'}) Значение по стандарту:  22\n",
      "Значение по Леску, пересечения:  (17, 1, {'break'}) Значение по стандарту:  20\n"
     ]
    }
   ],
   "source": [
    "stopWords = set(stopwords.words('english'))\n",
    "\n",
    "for i, sentence in enumerate(norm_verb_sentences): \n",
    "    sentence = [word for word in sentence if word not in stopWords]\n",
    "    print (\"Значение по Леску, пересечения: \", lesk_verb_example (\"break\", sentence), \"Значение по стандарту: \", verb_meanings[i])"
   ]
  },
  {
   "cell_type": "markdown",
   "metadata": {},
   "source": [
    "Неплохо, три из пяти. Стоит отметить, что количество пересечений минимальное -- для последнего слова пересечений, кроме самого слова break, нет вовсе. "
   ]
  },
  {
   "cell_type": "markdown",
   "metadata": {},
   "source": [
    "Объяснение, почему алгоритм Леска плохо работает для предложений 2 и 5 для глаголов:\n",
    "    \n",
    "2. A large group of armed Native Americans break into a federal building in Oregon to protest land use rules.\n",
    "\n",
    "Верное значение: S: (v) break in, break (enter someone's (virtual or real) property in an unauthorized manner, usually with the intent to steal or commit a violent act) \"Someone broke in while I was on vacation\"; \"They broke into my car and stole my radio!\"; \"who broke into my account last night?\"\n",
    "\n",
    "Неверное значение: S: (v) transgress, offend, infract, violate, go against, breach, break (act in disregard of laws, rules, contracts, or promises) \"offend all laws of humanity\"; \"violate the basic laws or human civilization\"; \"break a law\"; \"break a promise\"\n",
    "\n",
    "Причина: оба значения достаточно близки (оба связаны так или иначе с нарушением каких-либо правил). В предложении присутствует ключевое для неверного значения слово \"rules\", которое, хотя и не связано в предложении с глаголом \"break\", все же определяет тематику.\n",
    "\n",
    "5. Mr Hartzer said \"a longer-term road map of committed infrastructure investment\" could break the deadlock between consumers and businesses, who are currently looking to each other for cues on whether to spend.\n",
    "\n",
    "Верное значение: S: (v) break, bust (ruin completely) \"He busted my radio!\"\n",
    "Неверное значение: S: (v) interrupt, break (terminate) \"She interrupted her pregnancy\"; \"break a lucky streak\"; \"break the cycle of poverty\"\n",
    "\n",
    "Забавно: когда я теперь смотрю на неверное значение, мне кажется, что неверное значение на самом деле более верно, чем \"полностью разрушить\". Думаю, что этот случай можно считать верным определением значения (поставим ему условную 0.5 из-за того, что при создании стандарта я так ошибалась). Тем не менее, проблемы есть: это значение присвоено просто потому, что оно самое распространенное и первое в списке, а слов-пересечений не было найдено ни одного. \n",
    "\n",
    "Вряд ли данный результат получится улучшить. Взглянем на существительные."
   ]
  },
  {
   "cell_type": "code",
   "execution_count": 75,
   "metadata": {},
   "outputs": [],
   "source": [
    "#вариант леска для существительных с нормализацией и примерами\n",
    "def lesk_noun_example(word, sentence): \n",
    "    bestsense = 0\n",
    "    maxoverlap = 0\n",
    "    contexts = []\n",
    "    for i, synset in enumerate(wn.synsets(word, pos=wn.NOUN)): \n",
    "        definition = normalize(\" \".join(synset.examples()))+normalize(synset.definition()) \n",
    "        definition = set(definition)\n",
    "        sentence = set(sentence)\n",
    "        overlap = len(definition & sentence) \n",
    "        words_overlap = definition & sentence\n",
    "        if overlap > maxoverlap:\n",
    "            maxoverlap = overlap\n",
    "            bestsense = i  \n",
    "            maxwordsoverlap = words_overlap\n",
    "     \n",
    "    return bestsense + 1, maxoverlap, maxwordsoverlap"
   ]
  },
  {
   "cell_type": "code",
   "execution_count": 78,
   "metadata": {},
   "outputs": [
    {
     "name": "stdout",
     "output_type": "stream",
     "text": [
      "Значение по Леску, пересечения:  (1, 1, {'break'}) Значение по стандарту:  7\n",
      "Значение по Леску, пересечения:  (1, 1, {'break'}) Значение по стандарту:  1\n",
      "Значение по Леску, пересечения:  (2, 2, {'finally', 'break'}) Значение по стандарту:  2\n",
      "Значение по Леску, пересечения:  (1, 1, {'break'}) Значение по стандарту:  9\n",
      "Значение по Леску, пересечения:  (14, 2, {'break', 'made'}) Значение по стандарту:  7\n"
     ]
    }
   ],
   "source": [
    "for i, sentence in enumerate(norm_noun_sentences): \n",
    "    sntnc = [word for word in sentence if word not in stopWords]\n",
    "    print (\"Значение по Леску, пересечения: \", lesk_noun_example (\"break\", sntnc), \"Значение по стандарту: \", noun_meanings[i])"
   ]
  },
  {
   "cell_type": "markdown",
   "metadata": {},
   "source": [
    "Два попадания -- одно верное благодаря слову \"finally\", второе присвоенное автоматически из-за того, что значение было первым в списке. "
   ]
  },
  {
   "cell_type": "code",
   "execution_count": 79,
   "metadata": {},
   "outputs": [
    {
     "name": "stdout",
     "output_type": "stream",
     "text": [
      "Значение по Леску, пересечения:  (10, 4, {'the', 'to', 'break', 'in'}) Значение по стандарту:  7\n",
      "Значение по Леску, пересечения:  (1, 4, {'when', 'the', 'a', 'break'}) Значение по стандарту:  1\n",
      "Значение по Леску, пересечения:  (10, 7, {'to', 'the', 'as', 'her', 'break', 'a', 'in'}) Значение по стандарту:  2\n",
      "Значение по Леску, пересечения:  (10, 7, {'to', 'the', 'of', 'at', 'break', 'a', 'in'}) Значение по стандарту:  9\n",
      "Значение по Леску, пересечения:  (10, 5, {'the', 'of', 'at', 'break', 'in'}) Значение по стандарту:  7\n"
     ]
    }
   ],
   "source": [
    "for i, sentence in enumerate(norm_noun_sentences):  \n",
    "    print (\"Значение по Леску, пересечения: \", lesk_noun_example (\"break\", sentence), \"Значение по стандарту: \", noun_meanings[i])"
   ]
  },
  {
   "cell_type": "markdown",
   "metadata": {},
   "source": [
    "Без стоп-слов пересечения стали более объемными, но, как можно было предположить, все они на \"мусорных\" словах."
   ]
  },
  {
   "cell_type": "markdown",
   "metadata": {},
   "source": [
    "## Существительные и чудесные костыли для кода"
   ]
  },
  {
   "cell_type": "markdown",
   "metadata": {},
   "source": [
    "Предположим, что мы не хотим специально искать такие слова среди существительных, которые будут хорошо анализироваться леском. Попробуем расширить поле поиска леска за счет синонимов."
   ]
  },
  {
   "cell_type": "code",
   "execution_count": 80,
   "metadata": {},
   "outputs": [],
   "source": [
    "#ищем все синонимы одного слова\n",
    "def synonyms(word):\n",
    "    syns = []\n",
    "    for syn in wn.synsets(word): \n",
    "        for l in syn.lemmas(): \n",
    "            syns.append(l.name())\n",
    "            \n",
    "    return set(syns)"
   ]
  },
  {
   "cell_type": "code",
   "execution_count": 81,
   "metadata": {},
   "outputs": [
    {
     "data": {
      "text/plain": [
       "{'bankrupt',\n",
       " 'better',\n",
       " 'breach',\n",
       " 'break',\n",
       " 'break-dance',\n",
       " 'break_away',\n",
       " 'break_dance',\n",
       " 'break_down',\n",
       " 'break_in',\n",
       " 'break_of_serve',\n",
       " 'break_off',\n",
       " 'break_out',\n",
       " 'break_up',\n",
       " 'breakage',\n",
       " 'breaking',\n",
       " 'breakout',\n",
       " 'bring_out',\n",
       " 'bump',\n",
       " 'burst',\n",
       " 'bust',\n",
       " 'cave_in',\n",
       " 'check',\n",
       " 'collapse',\n",
       " 'come_apart',\n",
       " 'conk_out',\n",
       " 'crack',\n",
       " 'damp',\n",
       " 'dampen',\n",
       " 'demote',\n",
       " 'develop',\n",
       " 'die',\n",
       " 'disclose',\n",
       " 'discontinue',\n",
       " 'discover',\n",
       " 'disruption',\n",
       " 'divulge',\n",
       " 'erupt',\n",
       " 'expose',\n",
       " 'fail',\n",
       " 'fall_apart',\n",
       " 'fall_in',\n",
       " 'falling_out',\n",
       " 'fault',\n",
       " 'faulting',\n",
       " 'founder',\n",
       " 'fracture',\n",
       " 'gaolbreak',\n",
       " 'gap',\n",
       " 'geological_fault',\n",
       " 'get_around',\n",
       " 'get_out',\n",
       " 'give',\n",
       " 'give_away',\n",
       " 'give_out',\n",
       " 'give_way',\n",
       " 'go',\n",
       " 'go_against',\n",
       " 'go_bad',\n",
       " 'good_luck',\n",
       " 'happy_chance',\n",
       " 'infract',\n",
       " 'intermission',\n",
       " 'intermit',\n",
       " 'interrupt',\n",
       " 'interruption',\n",
       " 'jailbreak',\n",
       " 'kick_downstairs',\n",
       " 'let_on',\n",
       " 'let_out',\n",
       " 'offend',\n",
       " 'open_frame',\n",
       " 'part',\n",
       " 'pause',\n",
       " 'prison-breaking',\n",
       " 'prisonbreak',\n",
       " 'recess',\n",
       " 'recrudesce',\n",
       " 'relegate',\n",
       " 'respite',\n",
       " 'reveal',\n",
       " 'rift',\n",
       " 'ruin',\n",
       " 'rupture',\n",
       " 'separate',\n",
       " 'severance',\n",
       " 'shift',\n",
       " 'smash',\n",
       " 'snap_off',\n",
       " 'soften',\n",
       " 'split',\n",
       " 'split_up',\n",
       " 'stop',\n",
       " 'suspension',\n",
       " 'time_out',\n",
       " 'transgress',\n",
       " 'unwrap',\n",
       " 'violate',\n",
       " 'weaken',\n",
       " 'wear',\n",
       " 'wear_out'}"
      ]
     },
     "execution_count": 81,
     "metadata": {},
     "output_type": "execute_result"
    }
   ],
   "source": [
    "synonyms(\"break\") "
   ]
  },
  {
   "cell_type": "code",
   "execution_count": 83,
   "metadata": {},
   "outputs": [],
   "source": [
    "#сравниваем очень много слов с еще большим количеством слов\n",
    "\n",
    "def lesk_noun_syns(word, sentence): \n",
    "    bestsense = 0\n",
    "    maxoverlap = 0\n",
    "    contexts = []\n",
    "    for i, synset in enumerate(wn.synsets(word, pos=wn.NOUN)): \n",
    "        definition = normalize(\" \".join(synset.examples()))+normalize(synset.definition()) \n",
    "        definition = [word for word in definition if word not in stopWords]\n",
    "        defslist = [list(synonyms(word)) for word in definition]\n",
    "        definition = []\n",
    "        for sent in defslist:\n",
    "            for word in sent:\n",
    "                definition.append(word) \n",
    "        definition = set(definition)\n",
    "        sentence = set(sentence)\n",
    "        overlap = len(definition & sentence) \n",
    "        words_overlap = definition & sentence\n",
    "        if overlap > maxoverlap:\n",
    "            maxoverlap = overlap\n",
    "            bestsense = i  \n",
    "            maxwordsoverlap = words_overlap\n",
    "            bestdefinition = definition\n",
    "    \n",
    "    #значения глаголов идут после существительных\n",
    "    return bestsense + 1, maxoverlap "
   ]
  },
  {
   "cell_type": "code",
   "execution_count": 84,
   "metadata": {},
   "outputs": [],
   "source": [
    "def snttoset(sntns): \n",
    "    snt = [word for word in sntns if word not in stopWords]\n",
    "    sntlist = [list(synonyms(word)) for word in snt]\n",
    "    snt = []\n",
    "    for sent in sntlist:\n",
    "         for word in sent:\n",
    "            snt.append(word)     \n",
    "    return set(snt) "
   ]
  },
  {
   "cell_type": "code",
   "execution_count": 85,
   "metadata": {},
   "outputs": [
    {
     "name": "stdout",
     "output_type": "stream",
     "text": [
      "Значение по Леску, пересечения:  (15, 109) Значения по стандарту:  7\n",
      "Значение по Леску, пересечения:  (5, 173) Значения по стандарту:  1\n",
      "Значение по Леску, пересечения:  (2, 116) Значения по стандарту:  2\n",
      "Значение по Леску, пересечения:  (5, 114) Значения по стандарту:  9\n",
      "Значение по Леску, пересечения:  (15, 168) Значения по стандарту:  7\n"
     ]
    }
   ],
   "source": [
    "for i, nounsent in enumerate(norm_noun_sentences):\n",
    "    print (\"Значение по Леску, пересечения: \", lesk_noun_syns(\"break\", snttoset(nounsent)), \"Значения по стандарту: \", noun_meanings[i])"
   ]
  },
  {
   "cell_type": "markdown",
   "metadata": {},
   "source": [
    "Совпало только одно (хотя бы одно!), но пересечений очень много (возможно, среди них очень много мусорных).\n",
    "Попробуем посмотреть, как там дела у глаголов при таких условиях. "
   ]
  },
  {
   "cell_type": "code",
   "execution_count": 87,
   "metadata": {},
   "outputs": [],
   "source": [
    "def lesk_verb_syns(word, sentence): \n",
    "    bestsense = 0\n",
    "    maxoverlap = 0\n",
    "    contexts = []\n",
    "    for i, synset in enumerate(wn.synsets(word, pos=wn.VERB)): \n",
    "        definition = normalize(\" \".join(synset.examples()))+normalize(synset.definition()) \n",
    "        definition = [word for word in definition if word not in stopWords]\n",
    "        defslist = [list(synonyms(word)) for word in definition]\n",
    "        definition = []\n",
    "        for sent in defslist:\n",
    "            for word in sent:\n",
    "                definition.append(word) \n",
    "        definition = set(definition)\n",
    "        sentence = set(sentence)\n",
    "        overlap = len(definition & sentence) \n",
    "        words_overlap = definition & sentence\n",
    "        if overlap > maxoverlap:\n",
    "            maxoverlap = overlap\n",
    "            bestsense = i  \n",
    "            maxwordsoverlap = words_overlap\n",
    "            bestdefinition = definition\n",
    "    \n",
    "    #значения глаголов идут после существительных\n",
    "    return bestsense + 17, maxoverlap "
   ]
  },
  {
   "cell_type": "code",
   "execution_count": 88,
   "metadata": {},
   "outputs": [
    {
     "name": "stdout",
     "output_type": "stream",
     "text": [
      "Значение по Леску, пересечения:  (23, 107) Значения по стандарту:  23\n",
      "Значение по Леску, пересечения:  (22, 120) Значения по стандарту:  27\n",
      "Значение по Леску, пересечения:  (30, 121) Значения по стандарту:  30\n",
      "Значение по Леску, пересечения:  (45, 118) Значения по стандарту:  22\n",
      "Значение по Леску, пересечения:  (52, 121) Значения по стандарту:  20\n"
     ]
    }
   ],
   "source": [
    "for i, verbsent in enumerate(norm_verb_sentences):\n",
    "    print (\"Значение по Леску, пересечения: \", lesk_verb_syns(\"break\", snttoset(verbsent)), \"Значения по стандарту: \", verb_meanings[i])"
   ]
  },
  {
   "cell_type": "markdown",
   "metadata": {},
   "source": [
    "Не так уж много и сломалось, кстати, как минимум первое и третье предложение работают, но лучше не рисковать и с глаголами использовать старый алгоритм. "
   ]
  },
  {
   "cell_type": "markdown",
   "metadata": {},
   "source": [
    "Вернемся к существительным и попробуем зафиксировать для каждого из набора значений одинаковую длину (допустим, 100), чтобы на результат не влияла разница между количеством слов в значениях. "
   ]
  },
  {
   "cell_type": "code",
   "execution_count": 89,
   "metadata": {},
   "outputs": [
    {
     "name": "stdout",
     "output_type": "stream",
     "text": [
      "Значение по Леску, пересечения:  (9, 100) Значения по стандарту:  7\n",
      "Значение по Леску, пересечения:  (5, 100) Значения по стандарту:  1\n",
      "Значение по Леску, пересечения:  (9, 100) Значения по стандарту:  2\n",
      "Значение по Леску, пересечения:  (9, 100) Значения по стандарту:  9\n",
      "Значение по Леску, пересечения:  (9, 100) Значения по стандарту:  7\n"
     ]
    }
   ],
   "source": [
    "def lesk_noun_syns100(word, sentence): \n",
    "    bestsense = 0\n",
    "    maxoverlap = 0\n",
    "    contexts = []\n",
    "    for i, synset in enumerate(wn.synsets(word, pos=wn.NOUN)): \n",
    "        definition = normalize(\" \".join(synset.examples())+synset.definition())\n",
    "        definition = [word for word in definition if word not in stopWords]\n",
    "        defslist = [list(synonyms(word)) for word in definition]\n",
    "        definition = []\n",
    "        for sent in defslist:\n",
    "            for word in sent:\n",
    "                definition.append(word) \n",
    "        definition = set(definition[0:100])\n",
    "        sentence = set(sentence)\n",
    "        overlap = len(definition & sentence) \n",
    "        words_overlap = definition & sentence\n",
    "        if overlap > maxoverlap:\n",
    "            maxoverlap = overlap\n",
    "            bestsense = i  \n",
    "            maxwordsoverlap = words_overlap\n",
    "            bestdefinition = definition\n",
    "    \n",
    "    #значения глаголов идут после существительных\n",
    "    return bestsense + 1, maxoverlap \n",
    "\n",
    "for i, nounsent in enumerate(norm_noun_sentences):\n",
    "    print (\"Значение по Леску, пересечения: \", lesk_noun_syns100(\"break\", snttoset(nounsent)), \"Значения по стандарту: \", noun_meanings[i])"
   ]
  },
  {
   "cell_type": "markdown",
   "metadata": {},
   "source": [
    "Забавно: кажется, что количество синонимов для разных значений синсета настолько обширно, что пересечения включают в себя вообще все множество синонимов к словам в определении. Похоже, вариант с синонимами всё-таки неверный и неэффективный, хотя он правильно сработал на двух разных предложениях в двух разных случаях, а точность в 20% -- уже неплохо :) "
   ]
  },
  {
   "cell_type": "markdown",
   "metadata": {},
   "source": [
    "## Неожиданно лемматизация"
   ]
  },
  {
   "cell_type": "markdown",
   "metadata": {},
   "source": [
    "Мне почему-то казалось, что она входила в нормализацию в каком-то виде, но, кажется, всё-таки нет. "
   ]
  },
  {
   "cell_type": "code",
   "execution_count": 346,
   "metadata": {},
   "outputs": [],
   "source": [
    "from nltk.stem import WordNetLemmatizer\n",
    "wnlem = WordNetLemmatizer() \n",
    "\n",
    "lemsentences = []\n",
    "for s in norm_noun_sentences:\n",
    "    sentence = []\n",
    "    for word in s: \n",
    "        sentence.append((wnlem.lemmatize(word, pos=\"v\")))\n",
    "    lemsentences.append(sentence)"
   ]
  },
  {
   "cell_type": "code",
   "execution_count": 347,
   "metadata": {},
   "outputs": [
    {
     "data": {
      "text/plain": [
       "[['if',\n",
       "  'you',\n",
       "  'be',\n",
       "  'visit',\n",
       "  'during',\n",
       "  'spring',\n",
       "  'break',\n",
       "  'be',\n",
       "  'prepare',\n",
       "  'to',\n",
       "  'wait',\n",
       "  'in',\n",
       "  'line',\n",
       "  'for',\n",
       "  'busy',\n",
       "  'attractions',\n",
       "  'like',\n",
       "  'harry',\n",
       "  'potter',\n",
       "  'and',\n",
       "  'the',\n",
       "  'forbid',\n",
       "  'journey'],\n",
       " ['the',\n",
       "  'whole',\n",
       "  'thing',\n",
       "  'arrive',\n",
       "  'like',\n",
       "  'a',\n",
       "  'pretty',\n",
       "  'vibed',\n",
       "  'out',\n",
       "  'slow-motion',\n",
       "  'take',\n",
       "  'on',\n",
       "  'the',\n",
       "  'original',\n",
       "  'but',\n",
       "  'premier',\n",
       "  'flip',\n",
       "  'the',\n",
       "  'whole',\n",
       "  'thing',\n",
       "  'around',\n",
       "  'by',\n",
       "  'the',\n",
       "  '2:50',\n",
       "  'mark',\n",
       "  'when',\n",
       "  'he',\n",
       "  'play',\n",
       "  'off',\n",
       "  'the',\n",
       "  \"song's\",\n",
       "  'fast',\n",
       "  'pace',\n",
       "  'break'],\n",
       " ['we',\n",
       "  'can’t',\n",
       "  'wait',\n",
       "  'to',\n",
       "  'see',\n",
       "  'what',\n",
       "  'the',\n",
       "  'show',\n",
       "  'have',\n",
       "  'in',\n",
       "  'store',\n",
       "  'for',\n",
       "  'her',\n",
       "  'next–as',\n",
       "  'long',\n",
       "  'as',\n",
       "  'it’s',\n",
       "  'a',\n",
       "  'storyline',\n",
       "  'allow',\n",
       "  'her',\n",
       "  'to',\n",
       "  'finally',\n",
       "  'catch',\n",
       "  'a',\n",
       "  'break',\n",
       "  'because',\n",
       "  'she',\n",
       "  'could',\n",
       "  'seriously',\n",
       "  'use',\n",
       "  'one'],\n",
       " ['unfortunately',\n",
       "  'this',\n",
       "  'be',\n",
       "  'the',\n",
       "  'latest',\n",
       "  'in',\n",
       "  'a',\n",
       "  'series',\n",
       "  'of',\n",
       "  'incidents',\n",
       "  'that',\n",
       "  'highlight',\n",
       "  'the',\n",
       "  'need',\n",
       "  'for',\n",
       "  'greater',\n",
       "  'investment',\n",
       "  'in',\n",
       "  'our',\n",
       "  'city',\n",
       "  'facilities',\n",
       "  'turner',\n",
       "  'say',\n",
       "  'point',\n",
       "  'to',\n",
       "  'a',\n",
       "  'september',\n",
       "  'water',\n",
       "  'line',\n",
       "  'break',\n",
       "  'at',\n",
       "  'the',\n",
       "  \"city's\",\n",
       "  'main',\n",
       "  'administrative',\n",
       "  'build',\n",
       "  'at',\n",
       "  '611',\n",
       "  'walker',\n",
       "  'among',\n",
       "  'other',\n",
       "  'episodes'],\n",
       " ['the',\n",
       "  'cardinal',\n",
       "  'make',\n",
       "  '11',\n",
       "  'of',\n",
       "  '13',\n",
       "  'shots',\n",
       "  'in',\n",
       "  'the',\n",
       "  'second',\n",
       "  'quarter',\n",
       "  'and',\n",
       "  'lead',\n",
       "  '46-15',\n",
       "  'at',\n",
       "  'the',\n",
       "  'break']]"
      ]
     },
     "execution_count": 347,
     "metadata": {},
     "output_type": "execute_result"
    }
   ],
   "source": [
    "lemsentences"
   ]
  },
  {
   "cell_type": "code",
   "execution_count": 1,
   "metadata": {},
   "outputs": [
    {
     "ename": "NameError",
     "evalue": "name 'lemsentences' is not defined",
     "output_type": "error",
     "traceback": [
      "\u001b[0;31m---------------------------------------------------------------------------\u001b[0m",
      "\u001b[0;31mNameError\u001b[0m                                 Traceback (most recent call last)",
      "\u001b[0;32m<ipython-input-1-aebc1bdebaec>\u001b[0m in \u001b[0;36m<module>\u001b[0;34m\u001b[0m\n\u001b[0;32m----> 1\u001b[0;31m \u001b[0;32mfor\u001b[0m \u001b[0mi\u001b[0m\u001b[0;34m,\u001b[0m \u001b[0msentence\u001b[0m \u001b[0;32min\u001b[0m \u001b[0menumerate\u001b[0m\u001b[0;34m(\u001b[0m\u001b[0mlemsentences\u001b[0m\u001b[0;34m)\u001b[0m\u001b[0;34m:\u001b[0m\u001b[0;34m\u001b[0m\u001b[0;34m\u001b[0m\u001b[0m\n\u001b[0m\u001b[1;32m      2\u001b[0m     \u001b[0msntnc\u001b[0m \u001b[0;34m=\u001b[0m \u001b[0;34m[\u001b[0m\u001b[0mword\u001b[0m \u001b[0;32mfor\u001b[0m \u001b[0mword\u001b[0m \u001b[0;32min\u001b[0m \u001b[0msentence\u001b[0m \u001b[0;32mif\u001b[0m \u001b[0mword\u001b[0m \u001b[0;32mnot\u001b[0m \u001b[0;32min\u001b[0m \u001b[0mstopWords\u001b[0m\u001b[0;34m]\u001b[0m\u001b[0;34m\u001b[0m\u001b[0;34m\u001b[0m\u001b[0m\n\u001b[1;32m      3\u001b[0m     \u001b[0mprint\u001b[0m \u001b[0;34m(\u001b[0m\u001b[0;34m\"Значение по Леску, пересечения: \"\u001b[0m\u001b[0;34m,\u001b[0m \u001b[0mlesk_noun_example\u001b[0m \u001b[0;34m(\u001b[0m\u001b[0;34m\"break\"\u001b[0m\u001b[0;34m,\u001b[0m \u001b[0msntnc\u001b[0m\u001b[0;34m)\u001b[0m\u001b[0;34m,\u001b[0m \u001b[0;34m\"Значение по стандарту: \"\u001b[0m\u001b[0;34m,\u001b[0m \u001b[0mnoun_meanings\u001b[0m\u001b[0;34m[\u001b[0m\u001b[0mi\u001b[0m\u001b[0;34m]\u001b[0m\u001b[0;34m)\u001b[0m\u001b[0;34m\u001b[0m\u001b[0;34m\u001b[0m\u001b[0m\n",
      "\u001b[0;31mNameError\u001b[0m: name 'lemsentences' is not defined"
     ]
    }
   ],
   "source": [
    "for i, sentence in enumerate(lemsentences): \n",
    "    sntnc = [word for word in sentence if word not in stopWords]\n",
    "    print (\"Значение по Леску, пересечения: \", lesk_noun_example (\"break\", sntnc), \"Значение по стандарту: \", noun_meanings[i])"
   ]
  },
  {
   "cell_type": "markdown",
   "metadata": {},
   "source": [
    "Ситуация никак не изменилась. Опишем причины неудачи для каждого из предложений.\n",
    "\n",
    "\n",
    "1. If you are visiting during Spring Break, be prepared to wait in line for busy attractions like Harry Potter and the Forbidden Journey.'\n",
    "\n",
    "S: (n) pause, intermission, break, interruption, suspension (a time interval during which there is a temporary cessation of something)\n",
    "Нет примеров, все слова очень абстрактны и не слишком часто встречаются, когда мы говорим о конкретных вещах.\n",
    "Возможно, отдельное значение \"каникулы\" и примеры к нему помогли бы. \n",
    "\n",
    "\n",
    "2. \"The whole thing arrives like a pretty vibed out, slow-motion take on the original, but Premier flips the whole thing around by the 2:50 mark when he plays off the song's fast paced break.\"\n",
    "\n",
    "S: (n) interruption, break (some abrupt occurrence that interrupts an ongoing activity) \"the telephone is an annoying interruption\"; \"there was a break in the action when a player was hurt\"\n",
    "Значение достаточно абстрактно, поэтому примеры могут быть из разных областей и не связаны между собой, как в данном случае. \n",
    "\n",
    "3. We can’t wait to see what the show has in store for her next–as long as it’s a storyline allowing her to FINALLY catch a break because she could seriously use one.'\n",
    "\n",
    "\n",
    "\n",
    "4. \"Unfortunately, this is the latest in a series of incidents that highlight the need for greater investment in our city facilities,\" Turner said, pointing to a September water line break at the city\\'s main administrative building at 611 Walker, among other episodes.'\n",
    "\n",
    "5. The Cardinal made 11 of 13 shots in the second quarter and led 46-15 at the break.\n",
    "\n",
    "S: (n) pause, intermission, break, interruption, suspension (a time interval during which there is a temporary cessation of something)\n",
    "Аналогично предложению 1. Также странно, что нет отдельного значения для спортивного перерыва (тогда, возможно, слова \"set\", \"quarter\", \"shot\" могли бы помочь, т.к. они могли бы встречаться в примерах). "
   ]
  },
  {
   "cell_type": "markdown",
   "metadata": {},
   "source": [
    "## Выводы и подведение итогов"
   ]
  },
  {
   "cell_type": "markdown",
   "metadata": {},
   "source": [
    "0. Леск -- не очень. \n",
    "1. То, что примеры и определения разной длины, мешает эффективности алгоритма. \n",
    "2. Если бы у ворднета было бы для каждого слова по 5-10 частых словосочетаний с ним, это бы, наверное, помогло (например, если take a break сейчас он .\n",
    "\n",
    "Что помогает (не точно, мерилось только на этих 10 предложениях):\n",
    "1. Разделение на глаголы и существительные -- уменьшает количество вариантов для каждого слова.\n",
    "2. Удаление стоп-слов -- убирает из выдачи просто длинные предложения, которые хорошо срабатывают на пересечении разных \"the, is, it\". \n",
    "3. Использование примеров -- добавляет хотя бы немного полезных слов к определениям.\n",
    "\n",
    "Что почти не помогает:\n",
    "1. Лемматизация -- для глаголов и так все было хорошо, а для существительных лучше не стало. В английском языке формы (даже broke) меняются не так часто, чтобы значимо повлиять на работу алгоритма Леска.\n",
    "\n",
    "\"Оптимальный\" алгоритм: использовать нормализованный леск на примерах и определениях для глаголов (3.5 из 5), леск с синонимами на примерах и определениях для существительных (1 из 5) (работает не слишком эффективно).\n",
    "Лучше, чем 4.5 из 10, результата не было, если не разделять части речи и использовать для них один алгоритм, то лучший результат 3.5/10 (кажется, с глаголами просто повезло). "
   ]
  },
  {
   "cell_type": "markdown",
   "metadata": {},
   "source": [
    "## Бонус\n",
    "\n",
    "Если мы очень хотим найти предложения, для которых будет нормально работать алгоритм Леска, мы можем попробовать специально проанализировать предложения, которые часто пересекаются с какими-либо определениями (возможно, частое пересечение говорит о близости значений)."
   ]
  },
  {
   "cell_type": "code",
   "execution_count": 349,
   "metadata": {},
   "outputs": [],
   "source": [
    "#все предложения со словом \"break\"\n",
    "break_lines = [line for line in open('corpus_eng.txt') if \"break\" in tokenize(line)]\n",
    "all_breaks = []\n",
    "for line in break_lines:\n",
    "    line = nltk.sent_tokenize(line)\n",
    "    line = [sentence for sentence in line if \"break\" in tokenize(sentence)]\n",
    "    all_breaks += line"
   ]
  },
  {
   "cell_type": "code",
   "execution_count": 350,
   "metadata": {},
   "outputs": [
    {
     "data": {
      "text/plain": [
       "448"
      ]
     },
     "execution_count": 350,
     "metadata": {},
     "output_type": "execute_result"
    }
   ],
   "source": [
    "len(all_breaks)"
   ]
  },
  {
   "cell_type": "code",
   "execution_count": 351,
   "metadata": {},
   "outputs": [
    {
     "name": "stdout",
     "output_type": "stream",
     "text": [
      "13 GENEVA, Nov 28 The World Trade Organization (WTO) ruled on Monday a tax break from Washington state to help Boeing develop its new 777X jetliner was a prohibited subsidy, in a setback for the U.S. planemaker as it eyes victory in a parallel case against Airbus. \n",
      "Значение по Леску:  (43, {'state', 'new'}, 'come forth or begin from a state of latency')\n",
      "24 In an unprecedented break with custom for the British secret service known as MI5, its director-general Andrew Parker was reportedly the first-ever incumbent head of the organization to give a full-court media interview . \n",
      "Значение по Леску:  (31, {'secret', 'known'}, 'make known to the public information that was previously known only to a few people or that was meant to be kept a secret')\n",
      "30 Women take on surf contest for 1st time 1 / 1 Back to Gallery HONOLULU (AP) — Charging into violent waves at a Maui surf break known as \"Jaws,\" a group of women made history Friday as they competed for the first time in the World Surf League 's big-wave surfing competition. \n",
      "Значение по Леску:  (36, {'waves', 'surf'}, 'curl over and fall apart in surf or foam, of waves')\n",
      "35 The next album, Black and Blue , released in the fall of 2000, sold 1.6 million copies in the first week but failed to break the new first week record set by fellow boy band *NSYNC. \n",
      "Значение по Леску:  (43, {'new', 'first'}, 'come forth or begin from a state of latency')\n",
      "66 Photo: Silver Screen Collection, Getty Images Image 25 of 78 Feb. 10, 1977: After nearly seven years of marriage to Gus Trikonis, Goldie jumped ship two months later and married musician Bill Hudson, here taking a smoke break with new wife at the People's Choice Awards in Hollywood. \n",
      "Значение по Леску:  (47, {'marriage', 'years', '25'}, 'discontinue an association or relation; go different ways')\n",
      "67 less Feb. 10, 1977: After nearly seven years of marriage to Gus Trikonis, Goldie jumped ship two months later and married musician Bill Hudson, here taking a smoke break with new wife at the People's Choice Awards ... more Photo: Ron Galella, Getty Images Image 26 of 78 Circa 1978: Promotional photo. \n",
      "Значение по Леску:  (47, {'years', 'marriage'}, 'discontinue an association or relation; go different ways')\n",
      "82 Upon returning at about 12:45 that afternoon, Harris went to his car and opened the door to put away some light bulbs he had bought during the lunch break. \n",
      "Значение по Леску:  (33, {'went', 'car'}, 'stop operating or functioning')\n",
      "89 Sometimes the old Dell computers used by the officers would break down, and I'd just have to sit there, on a metal chair, staring at George Bush and Dick Cheney's pictures hanging on the wall and fuming. \n",
      "Значение по Леску:  (31, {'would', 'old'}, 'make known to the public information that was previously known only to a few people or that was meant to be kept a secret')\n",
      "96 But the Resolution Foundation - which works to improve the living standards of low- and middle-income households - warned that the bulk of the £2 billion tax break will go to wealthier households, while making the British state increasingly dependent on a shrinking tax base of top earners for its income \n",
      "Значение по Леску:  (47, {'go', 'tax'}, 'discontinue an association or relation; go different ways')\n",
      "101 ?I wouldn?t be surprised to see a little bit of pause as investors take a break to catch their breath, and these Asian markets may take a little breather as well and see some consolidation, whether its been falling or rallying. \n",
      "Значение по Леску:  (44, {'take', 'well'}, 'happen or take place')\n",
      "106 WASHINGTON Donald Trump's White House victory moves Apple ( AAPL.O ), Pfizer ( PFE.N ), Microsoft ( MSFT.O ) and other big U.S. corporations much closer than they have been in years to winning a big tax break on $2.6 trillion in foreign profits. \n",
      "Значение по Леску:  (47, {'years', 'tax'}, 'discontinue an association or relation; go different ways')\n",
      "144 There's also plenty of side content to uncover in the hub areas, from unearthing backstory to finding the one ultra clever way to break into a fortified black market shop. \n",
      "Значение по Леску:  (3, {'side', 'one'}, \"(geology) a crack in the earth's crust resulting from the displacement of one side with respect to the other\")\n",
      "149 Maybe you don’t think you need to — it was your now-husband who took the vows he broke, after all — but he did break them with your witting and willing assistance. \n",
      "Значение по Леску:  (19, {'broke', 'took'}, 'render inoperable or ineffective')\n",
      "156 He got his big break in 1997 when Radio City and Rockefeller Center got on board. \n",
      "Значение по Леску:  (2, {'big', 'got'}, 'an unexpected piece of good luck')\n",
      "161 The news will come as a relief to Chelsea fans, with Courtois having kept five clean sheets in a row prior to the international break to help Antonio Conte's side climb into second place in the Premier League. \n",
      "Значение по Леску:  (31, {'kept', 'news'}, 'make known to the public information that was previously known only to a few people or that was meant to be kept a secret')\n",
      "176 The whole thing arrives like a pretty vibed out, slow-motion take on the original, but Premier flips the whole thing around by the 2:50 mark when he plays off the song's fast paced break. \n",
      "Значение по Леску:  (44, {'take', 'pretty'}, 'happen or take place')\n"
     ]
    },
    {
     "ename": "KeyboardInterrupt",
     "evalue": "",
     "output_type": "error",
     "traceback": [
      "\u001b[0;31m---------------------------------------------------------------------------\u001b[0m",
      "\u001b[0;31mKeyboardInterrupt\u001b[0m                         Traceback (most recent call last)",
      "\u001b[0;32m<ipython-input-351-160c408dee0b>\u001b[0m in \u001b[0;36m<module>\u001b[0;34m\u001b[0m\n\u001b[1;32m     23\u001b[0m     \u001b[0msentenc\u001b[0m \u001b[0;34m=\u001b[0m \u001b[0;34m[\u001b[0m\u001b[0mword\u001b[0m \u001b[0;32mfor\u001b[0m \u001b[0mword\u001b[0m \u001b[0;32min\u001b[0m \u001b[0mtokenize\u001b[0m\u001b[0;34m(\u001b[0m\u001b[0msentence\u001b[0m\u001b[0;34m)\u001b[0m \u001b[0;32mif\u001b[0m \u001b[0mword\u001b[0m \u001b[0;32mnot\u001b[0m \u001b[0;32min\u001b[0m \u001b[0mstopWords\u001b[0m \u001b[0;32mand\u001b[0m \u001b[0mword\u001b[0m \u001b[0;34m!=\u001b[0m \u001b[0;34m\"break\"\u001b[0m\u001b[0;34m]\u001b[0m\u001b[0;34m\u001b[0m\u001b[0;34m\u001b[0m\u001b[0m\n\u001b[1;32m     24\u001b[0m     \u001b[0;32mif\u001b[0m \u001b[0;34m(\u001b[0m\u001b[0mlesk_new\u001b[0m\u001b[0;34m(\u001b[0m\u001b[0;34m\"break\"\u001b[0m\u001b[0;34m,\u001b[0m \u001b[0msentenc\u001b[0m\u001b[0;34m)\u001b[0m\u001b[0;34m[\u001b[0m\u001b[0;36m1\u001b[0m\u001b[0;34m]\u001b[0m\u001b[0;34m)\u001b[0m \u001b[0;34m!=\u001b[0m \u001b[0;36m0\u001b[0m\u001b[0;34m:\u001b[0m\u001b[0;34m\u001b[0m\u001b[0;34m\u001b[0m\u001b[0m\n\u001b[0;32m---> 25\u001b[0;31m         \u001b[0;32mif\u001b[0m \u001b[0mlen\u001b[0m\u001b[0;34m(\u001b[0m\u001b[0mlesk_new\u001b[0m\u001b[0;34m(\u001b[0m\u001b[0;34m\"break\"\u001b[0m\u001b[0;34m,\u001b[0m \u001b[0msentenc\u001b[0m\u001b[0;34m)\u001b[0m\u001b[0;34m[\u001b[0m\u001b[0;36m1\u001b[0m\u001b[0;34m]\u001b[0m\u001b[0;34m)\u001b[0m \u001b[0;34m>\u001b[0m \u001b[0;36m1\u001b[0m\u001b[0;34m:\u001b[0m\u001b[0;34m\u001b[0m\u001b[0;34m\u001b[0m\u001b[0m\n\u001b[0m\u001b[1;32m     26\u001b[0m             \u001b[0mprint\u001b[0m \u001b[0;34m(\u001b[0m\u001b[0mi\u001b[0m\u001b[0;34m+\u001b[0m\u001b[0;36m1\u001b[0m\u001b[0;34m,\u001b[0m \u001b[0msentence\u001b[0m\u001b[0;34m,\u001b[0m \u001b[0;34m\"\\n\"\u001b[0m \u001b[0;34m+\u001b[0m \u001b[0;34m\"Значение по Леску: \"\u001b[0m\u001b[0;34m,\u001b[0m \u001b[0mlesk_new\u001b[0m\u001b[0;34m(\u001b[0m\u001b[0;34m\"break\"\u001b[0m\u001b[0;34m,\u001b[0m \u001b[0msentenc\u001b[0m\u001b[0;34m)\u001b[0m\u001b[0;34m)\u001b[0m\u001b[0;34m\u001b[0m\u001b[0;34m\u001b[0m\u001b[0m\n",
      "\u001b[0;32m<ipython-input-351-160c408dee0b>\u001b[0m in \u001b[0;36mlesk_new\u001b[0;34m(word, sentence)\u001b[0m\n\u001b[1;32m      6\u001b[0m     \u001b[0mmeaning\u001b[0m \u001b[0;34m=\u001b[0m \u001b[0;34m\"no meaning found\"\u001b[0m\u001b[0;34m\u001b[0m\u001b[0;34m\u001b[0m\u001b[0m\n\u001b[1;32m      7\u001b[0m     \u001b[0;32mfor\u001b[0m \u001b[0mi\u001b[0m\u001b[0;34m,\u001b[0m \u001b[0msynset\u001b[0m \u001b[0;32min\u001b[0m \u001b[0menumerate\u001b[0m\u001b[0;34m(\u001b[0m\u001b[0mwn\u001b[0m\u001b[0;34m.\u001b[0m\u001b[0msynsets\u001b[0m\u001b[0;34m(\u001b[0m\u001b[0mword\u001b[0m\u001b[0;34m)\u001b[0m\u001b[0;34m)\u001b[0m\u001b[0;34m:\u001b[0m\u001b[0;34m\u001b[0m\u001b[0;34m\u001b[0m\u001b[0m\n\u001b[0;32m----> 8\u001b[0;31m         \u001b[0mdefinition\u001b[0m \u001b[0;34m=\u001b[0m \u001b[0mnormalize\u001b[0m\u001b[0;34m(\u001b[0m\u001b[0;34m\" \"\u001b[0m\u001b[0;34m.\u001b[0m\u001b[0mjoin\u001b[0m\u001b[0;34m(\u001b[0m\u001b[0msynset\u001b[0m\u001b[0;34m.\u001b[0m\u001b[0mexamples\u001b[0m\u001b[0;34m(\u001b[0m\u001b[0;34m)\u001b[0m\u001b[0;34m)\u001b[0m\u001b[0;34m+\u001b[0m\u001b[0msynset\u001b[0m\u001b[0;34m.\u001b[0m\u001b[0mdefinition\u001b[0m\u001b[0;34m(\u001b[0m\u001b[0;34m)\u001b[0m\u001b[0;34m)\u001b[0m\u001b[0;34m\u001b[0m\u001b[0;34m\u001b[0m\u001b[0m\n\u001b[0m\u001b[1;32m      9\u001b[0m         \u001b[0mdefinition\u001b[0m \u001b[0;34m=\u001b[0m \u001b[0;34m[\u001b[0m\u001b[0mword\u001b[0m \u001b[0;32mfor\u001b[0m \u001b[0mword\u001b[0m \u001b[0;32min\u001b[0m \u001b[0mdefinition\u001b[0m \u001b[0;32mif\u001b[0m \u001b[0mword\u001b[0m \u001b[0;32mnot\u001b[0m \u001b[0;32min\u001b[0m \u001b[0mstopWords\u001b[0m\u001b[0;34m]\u001b[0m\u001b[0;34m\u001b[0m\u001b[0;34m\u001b[0m\u001b[0m\n\u001b[1;32m     10\u001b[0m         \u001b[0mdefinition\u001b[0m \u001b[0;34m=\u001b[0m \u001b[0mset\u001b[0m\u001b[0;34m(\u001b[0m\u001b[0mdefinition\u001b[0m\u001b[0;34m)\u001b[0m\u001b[0;34m\u001b[0m\u001b[0;34m\u001b[0m\u001b[0m\n",
      "\u001b[0;32m<ipython-input-304-dc76888e4a88>\u001b[0m in \u001b[0;36mnormalize\u001b[0;34m(text)\u001b[0m\n\u001b[1;32m     22\u001b[0m \u001b[0;34m\u001b[0m\u001b[0m\n\u001b[1;32m     23\u001b[0m     \u001b[0mwords\u001b[0m \u001b[0;34m=\u001b[0m \u001b[0;34m[\u001b[0m\u001b[0mword\u001b[0m\u001b[0;34m.\u001b[0m\u001b[0mstrip\u001b[0m\u001b[0;34m(\u001b[0m\u001b[0mpunct\u001b[0m\u001b[0;34m)\u001b[0m \u001b[0;32mfor\u001b[0m \u001b[0mword\u001b[0m \u001b[0;32min\u001b[0m \u001b[0mtext\u001b[0m\u001b[0;34m.\u001b[0m\u001b[0mlower\u001b[0m\u001b[0;34m(\u001b[0m\u001b[0;34m)\u001b[0m\u001b[0;34m.\u001b[0m\u001b[0msplit\u001b[0m\u001b[0;34m(\u001b[0m\u001b[0;34m)\u001b[0m\u001b[0;34m]\u001b[0m\u001b[0;34m\u001b[0m\u001b[0;34m\u001b[0m\u001b[0m\n\u001b[0;32m---> 24\u001b[0;31m     \u001b[0mwords\u001b[0m \u001b[0;34m=\u001b[0m \u001b[0;34m[\u001b[0m\u001b[0mmorph\u001b[0m\u001b[0;34m.\u001b[0m\u001b[0mparse\u001b[0m\u001b[0;34m(\u001b[0m\u001b[0mword\u001b[0m\u001b[0;34m)\u001b[0m\u001b[0;34m[\u001b[0m\u001b[0;36m0\u001b[0m\u001b[0;34m]\u001b[0m\u001b[0;34m.\u001b[0m\u001b[0mnormal_form\u001b[0m \u001b[0;32mfor\u001b[0m \u001b[0mword\u001b[0m \u001b[0;32min\u001b[0m \u001b[0mwords\u001b[0m \u001b[0;32mif\u001b[0m \u001b[0mword\u001b[0m\u001b[0;34m]\u001b[0m\u001b[0;34m\u001b[0m\u001b[0;34m\u001b[0m\u001b[0m\n\u001b[0m\u001b[1;32m     25\u001b[0m \u001b[0;34m\u001b[0m\u001b[0m\n\u001b[1;32m     26\u001b[0m     \u001b[0;32mreturn\u001b[0m \u001b[0mwords\u001b[0m\u001b[0;34m\u001b[0m\u001b[0;34m\u001b[0m\u001b[0m\n",
      "\u001b[0;32m<ipython-input-304-dc76888e4a88>\u001b[0m in \u001b[0;36m<listcomp>\u001b[0;34m(.0)\u001b[0m\n\u001b[1;32m     22\u001b[0m \u001b[0;34m\u001b[0m\u001b[0m\n\u001b[1;32m     23\u001b[0m     \u001b[0mwords\u001b[0m \u001b[0;34m=\u001b[0m \u001b[0;34m[\u001b[0m\u001b[0mword\u001b[0m\u001b[0;34m.\u001b[0m\u001b[0mstrip\u001b[0m\u001b[0;34m(\u001b[0m\u001b[0mpunct\u001b[0m\u001b[0;34m)\u001b[0m \u001b[0;32mfor\u001b[0m \u001b[0mword\u001b[0m \u001b[0;32min\u001b[0m \u001b[0mtext\u001b[0m\u001b[0;34m.\u001b[0m\u001b[0mlower\u001b[0m\u001b[0;34m(\u001b[0m\u001b[0;34m)\u001b[0m\u001b[0;34m.\u001b[0m\u001b[0msplit\u001b[0m\u001b[0;34m(\u001b[0m\u001b[0;34m)\u001b[0m\u001b[0;34m]\u001b[0m\u001b[0;34m\u001b[0m\u001b[0;34m\u001b[0m\u001b[0m\n\u001b[0;32m---> 24\u001b[0;31m     \u001b[0mwords\u001b[0m \u001b[0;34m=\u001b[0m \u001b[0;34m[\u001b[0m\u001b[0mmorph\u001b[0m\u001b[0;34m.\u001b[0m\u001b[0mparse\u001b[0m\u001b[0;34m(\u001b[0m\u001b[0mword\u001b[0m\u001b[0;34m)\u001b[0m\u001b[0;34m[\u001b[0m\u001b[0;36m0\u001b[0m\u001b[0;34m]\u001b[0m\u001b[0;34m.\u001b[0m\u001b[0mnormal_form\u001b[0m \u001b[0;32mfor\u001b[0m \u001b[0mword\u001b[0m \u001b[0;32min\u001b[0m \u001b[0mwords\u001b[0m \u001b[0;32mif\u001b[0m \u001b[0mword\u001b[0m\u001b[0;34m]\u001b[0m\u001b[0;34m\u001b[0m\u001b[0;34m\u001b[0m\u001b[0m\n\u001b[0m\u001b[1;32m     25\u001b[0m \u001b[0;34m\u001b[0m\u001b[0m\n\u001b[1;32m     26\u001b[0m     \u001b[0;32mreturn\u001b[0m \u001b[0mwords\u001b[0m\u001b[0;34m\u001b[0m\u001b[0;34m\u001b[0m\u001b[0m\n",
      "\u001b[0;32m~/anaconda3/lib/python3.7/site-packages/pymorphy2/analyzer.py\u001b[0m in \u001b[0;36mparse\u001b[0;34m(self, word)\u001b[0m\n\u001b[1;32m    238\u001b[0m \u001b[0;34m\u001b[0m\u001b[0m\n\u001b[1;32m    239\u001b[0m         \u001b[0;32mfor\u001b[0m \u001b[0manalyzer\u001b[0m\u001b[0;34m,\u001b[0m \u001b[0mis_terminal\u001b[0m \u001b[0;32min\u001b[0m \u001b[0mself\u001b[0m\u001b[0;34m.\u001b[0m\u001b[0m_units\u001b[0m\u001b[0;34m:\u001b[0m\u001b[0;34m\u001b[0m\u001b[0;34m\u001b[0m\u001b[0m\n\u001b[0;32m--> 240\u001b[0;31m             \u001b[0mres\u001b[0m\u001b[0;34m.\u001b[0m\u001b[0mextend\u001b[0m\u001b[0;34m(\u001b[0m\u001b[0manalyzer\u001b[0m\u001b[0;34m.\u001b[0m\u001b[0mparse\u001b[0m\u001b[0;34m(\u001b[0m\u001b[0mword\u001b[0m\u001b[0;34m,\u001b[0m \u001b[0mword_lower\u001b[0m\u001b[0;34m,\u001b[0m \u001b[0mseen\u001b[0m\u001b[0;34m)\u001b[0m\u001b[0;34m)\u001b[0m\u001b[0;34m\u001b[0m\u001b[0;34m\u001b[0m\u001b[0m\n\u001b[0m\u001b[1;32m    241\u001b[0m \u001b[0;34m\u001b[0m\u001b[0m\n\u001b[1;32m    242\u001b[0m             \u001b[0;32mif\u001b[0m \u001b[0mis_terminal\u001b[0m \u001b[0;32mand\u001b[0m \u001b[0mres\u001b[0m\u001b[0;34m:\u001b[0m\u001b[0;34m\u001b[0m\u001b[0;34m\u001b[0m\u001b[0m\n",
      "\u001b[0;32m~/anaconda3/lib/python3.7/site-packages/pymorphy2/units/by_shape.py\u001b[0m in \u001b[0;36mparse\u001b[0;34m(self, word, word_lower, seen_parses)\u001b[0m\n\u001b[1;32m     23\u001b[0m \u001b[0;34m\u001b[0m\u001b[0m\n\u001b[1;32m     24\u001b[0m     \u001b[0;32mdef\u001b[0m \u001b[0mparse\u001b[0m\u001b[0;34m(\u001b[0m\u001b[0mself\u001b[0m\u001b[0;34m,\u001b[0m \u001b[0mword\u001b[0m\u001b[0;34m,\u001b[0m \u001b[0mword_lower\u001b[0m\u001b[0;34m,\u001b[0m \u001b[0mseen_parses\u001b[0m\u001b[0;34m)\u001b[0m\u001b[0;34m:\u001b[0m\u001b[0;34m\u001b[0m\u001b[0;34m\u001b[0m\u001b[0m\n\u001b[0;32m---> 25\u001b[0;31m         \u001b[0mshape\u001b[0m \u001b[0;34m=\u001b[0m \u001b[0mself\u001b[0m\u001b[0;34m.\u001b[0m\u001b[0mcheck_shape\u001b[0m\u001b[0;34m(\u001b[0m\u001b[0mword\u001b[0m\u001b[0;34m,\u001b[0m \u001b[0mword_lower\u001b[0m\u001b[0;34m)\u001b[0m\u001b[0;34m\u001b[0m\u001b[0;34m\u001b[0m\u001b[0m\n\u001b[0m\u001b[1;32m     26\u001b[0m         \u001b[0;32mif\u001b[0m \u001b[0;32mnot\u001b[0m \u001b[0mshape\u001b[0m\u001b[0;34m:\u001b[0m\u001b[0;34m\u001b[0m\u001b[0;34m\u001b[0m\u001b[0m\n\u001b[1;32m     27\u001b[0m             \u001b[0;32mreturn\u001b[0m \u001b[0;34m[\u001b[0m\u001b[0;34m]\u001b[0m\u001b[0;34m\u001b[0m\u001b[0;34m\u001b[0m\u001b[0m\n",
      "\u001b[0;32m~/anaconda3/lib/python3.7/site-packages/pymorphy2/units/by_shape.py\u001b[0m in \u001b[0;36mcheck_shape\u001b[0;34m(self, word, word_lower)\u001b[0m\n\u001b[1;32m     75\u001b[0m \u001b[0;34m\u001b[0m\u001b[0m\n\u001b[1;32m     76\u001b[0m     \u001b[0;32mdef\u001b[0m \u001b[0mcheck_shape\u001b[0m\u001b[0;34m(\u001b[0m\u001b[0mself\u001b[0m\u001b[0;34m,\u001b[0m \u001b[0mword\u001b[0m\u001b[0;34m,\u001b[0m \u001b[0mword_lower\u001b[0m\u001b[0;34m)\u001b[0m\u001b[0;34m:\u001b[0m\u001b[0;34m\u001b[0m\u001b[0;34m\u001b[0m\u001b[0m\n\u001b[0;32m---> 77\u001b[0;31m         \u001b[0;32mreturn\u001b[0m \u001b[0mis_punctuation\u001b[0m\u001b[0;34m(\u001b[0m\u001b[0mword\u001b[0m\u001b[0;34m)\u001b[0m\u001b[0;34m\u001b[0m\u001b[0;34m\u001b[0m\u001b[0m\n\u001b[0m\u001b[1;32m     78\u001b[0m \u001b[0;34m\u001b[0m\u001b[0m\n\u001b[1;32m     79\u001b[0m \u001b[0;34m\u001b[0m\u001b[0m\n",
      "\u001b[0;32m~/anaconda3/lib/python3.7/site-packages/pymorphy2/shapes.py\u001b[0m in \u001b[0;36mis_punctuation\u001b[0;34m(token)\u001b[0m\n\u001b[1;32m     65\u001b[0m         \u001b[0mbool\u001b[0m\u001b[0;34m(\u001b[0m\u001b[0mtoken\u001b[0m\u001b[0;34m)\u001b[0m \u001b[0;32mand\u001b[0m\u001b[0;34m\u001b[0m\u001b[0;34m\u001b[0m\u001b[0m\n\u001b[1;32m     66\u001b[0m         \u001b[0;32mnot\u001b[0m \u001b[0mtoken\u001b[0m\u001b[0;34m.\u001b[0m\u001b[0misspace\u001b[0m\u001b[0;34m(\u001b[0m\u001b[0;34m)\u001b[0m \u001b[0;32mand\u001b[0m\u001b[0;34m\u001b[0m\u001b[0;34m\u001b[0m\u001b[0m\n\u001b[0;32m---> 67\u001b[0;31m         \u001b[0mall\u001b[0m\u001b[0;34m(\u001b[0m\u001b[0municodedata\u001b[0m\u001b[0;34m.\u001b[0m\u001b[0mcategory\u001b[0m\u001b[0;34m(\u001b[0m\u001b[0mch\u001b[0m\u001b[0;34m)\u001b[0m\u001b[0;34m[\u001b[0m\u001b[0;36m0\u001b[0m\u001b[0;34m]\u001b[0m \u001b[0;34m==\u001b[0m \u001b[0;34m'P'\u001b[0m \u001b[0;32mfor\u001b[0m \u001b[0mch\u001b[0m \u001b[0;32min\u001b[0m \u001b[0mtoken\u001b[0m \u001b[0;32mif\u001b[0m \u001b[0;32mnot\u001b[0m \u001b[0mch\u001b[0m\u001b[0;34m.\u001b[0m\u001b[0misspace\u001b[0m\u001b[0;34m(\u001b[0m\u001b[0;34m)\u001b[0m\u001b[0;34m)\u001b[0m\u001b[0;34m\u001b[0m\u001b[0;34m\u001b[0m\u001b[0m\n\u001b[0m\u001b[1;32m     68\u001b[0m     )\n\u001b[1;32m     69\u001b[0m \u001b[0;34m\u001b[0m\u001b[0m\n",
      "\u001b[0;31mKeyboardInterrupt\u001b[0m: "
     ]
    }
   ],
   "source": [
    "def lesk_new(word, sentence): \n",
    "    bestsense = 0\n",
    "    maxoverlap = 0\n",
    "    maxwords = 0\n",
    "    contexts = []\n",
    "    meaning = \"no meaning found\"\n",
    "    for i, synset in enumerate(wn.synsets(word)):\n",
    "        definition = normalize(\" \".join(synset.examples())+synset.definition())\n",
    "        definition = [word for word in definition if word not in stopWords]\n",
    "        definition = set(definition)\n",
    "        sentence = set(sentence)\n",
    "        overlap = len(definition & sentence)\n",
    "        if overlap > maxoverlap:\n",
    "            maxoverlap = overlap\n",
    "            bestsense = i \n",
    "            maxwords = definition & sentence\n",
    "            meaning = synset.definition()\n",
    "     \n",
    "    return bestsense + 1, maxwords, meaning\n",
    "\n",
    "#достаем те предложения, которые больше чем на одно слово(кроме брейк) пересекаются с определениями и примерами\n",
    "for i, sentence in enumerate(all_breaks): \n",
    "    sentenc = [word for word in tokenize(sentence) if word not in stopWords and word != \"break\"]\n",
    "    if (lesk_new(\"break\", sentenc)[1]) != 0:\n",
    "        if len(lesk_new(\"break\", sentenc)[1]) > 1: \n",
    "            print (i+1, sentence, \"\\n\" + \"Значение по Леску: \", lesk_new(\"break\", sentenc))"
   ]
  },
  {
   "cell_type": "markdown",
   "metadata": {},
   "source": [
    "Есть ли среди них что-то правильно определенное? Местами да, вероятно, 10 предложений набрать можно без нажатия на кнопку рандом и надежду, что повезет."
   ]
  },
  {
   "cell_type": "markdown",
   "metadata": {},
   "source": [
    "Например:\n",
    "\n",
    "24 In an unprecedented break with custom for the British secret service known as MI5, its director-general Andrew Parker was reportedly the first-ever incumbent head of the organization to give a full-court media interview . \n",
    "Значение по Леску:  (31, {'secret', 'known'}, 'make known to the public information that was previously known only to a few people or that was meant to be kept a secret')\n",
    "\n",
    "Или: \n",
    "\n",
    "56 He got his big break in 1997 when Radio City and Rockefeller Center got on board. \n",
    "Значение по Леску:  (2, {'big', 'got'}, 'an unexpected piece of good luck')\n",
    "\n",
    "Или:\n",
    "\n",
    "313 The actress recently took a break from filming Suits , and it seems that she's using the time to get up close and personal with the world's favourite ginger. \n",
    "Значение по Леску:  (5, {'took', 'time'}, 'a pause from doing something (as work)')\n",
    "\n",
    "Тем не менее, даже на больших пересечениях значение чаще определяется неверно: для настолько большого количества часто схожих значений сложно уловить разницу. "
   ]
  }
 ],
 "metadata": {
  "kernelspec": {
   "display_name": "Python 3",
   "language": "python",
   "name": "python3"
  },
  "language_info": {
   "codemirror_mode": {
    "name": "ipython",
    "version": 3
   },
   "file_extension": ".py",
   "mimetype": "text/x-python",
   "name": "python",
   "nbconvert_exporter": "python",
   "pygments_lexer": "ipython3",
   "version": "3.7.1"
  }
 },
 "nbformat": 4,
 "nbformat_minor": 2
}
